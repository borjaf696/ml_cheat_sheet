{
 "cells": [
  {
   "cell_type": "markdown",
   "metadata": {},
   "source": [
    "## Goal\n",
    "\n",
    "Your goal is to analyze these two datasets and think of as many as possible approaches to match rows in two datasets (source1.tsv and source2.tsv).\n"
   ]
  },
  {
   "cell_type": "markdown",
   "metadata": {},
   "source": [
    "* Option 1: Naive one - algorithmically.\n",
    "    * This is not scalable or useful for larger cases.\n",
    "    * However, by looking at the data we can try to build handmade clusters and try to perform joins on them.\n",
    "    * For example:\n",
    "        * 5 digit numbers - can be interpreted as postal codes.\n",
    "        * smaller digit numbers - street_number\n",
    "    * By doing that we can reduce or build buckets small enough to perform some further algorithmic work such as:\n",
    "        * Looking for the streets.\n",
    "        * Merging by Ids, and so on.\n",
    "    * Clear problems:\n",
    "        * Not scalable\n",
    "        * What happens if the streets are not written in the same way.\n",
    "        * What happens if the names of the streets are permutated.\n",
    "        * It has nothing to do with ML/DL, thus it is discarded.\n",
    "* Option 2: Unsupervised learning.\n",
    "    * Although the data is a toy example it is not feasible to deal with de data directly. Building the set of features, in this case, leads to a matrix of $|rows| = n_rows$ and $|columns| = |vocabulary|$, which in most cases means tremendously large datasets. To avoid this we need to split the data sensitively.\n",
    "        * Step 1: Split the data by using the Postal Code - although there are some missing entries or even CPs that only appear once. A split based on the CP can lead to a safe data splitting. There are some missing cases such as:\n",
    "            * Missing CPs\n",
    "            * Wrong CPs\n",
    "            * CP's that only appear once.\n",
    "        * Step 2: Vectorize street information built from, or not particular information (removing names, number of streets, website, etc).\n",
    "            * K-means by using these vectors. We are not going to use the entire vocabulary:\n",
    "                * Minimum times in set of documents 2 (we look for pairs) / size(doc)\n",
    "                * Maxmimum times in set of documents (we are not interested in extremely repeated words, although our selected measure already manages this we can improve the clustering by selecting more accurately the number of features (we fight the curse of dimensionality))\n",
    "        * Step 3: Vectorize particular information.\n",
    "            * At this point, we expect to have reduced the data by a lot, thus we can try to match rows:\n",
    "                * Get vectors of each row.\n",
    "                * Calculate some distance measures (I have decided on cosine similarity)\n",
    "                * Options:\n",
    "                    * A - For each row get the pair that maximizes similarity.\n",
    "                    * B - Get the set of assignations such that the number of wrong assignations is minimized.\n",
    "                * Problem unfaced:\n",
    "                    * There are going to be some fake_positives, that is, some assignations that are not correct. How to filter them:\n",
    "                        * Based on the level of similarity?\n",
    "                            * By using the assignations done get quantile_0.1 and remove all the assignations which are below that level.\n",
    "        * For the rows that CP is missing I face the problem by repeating the process from Step 2 ahead."
   ]
  },
  {
   "cell_type": "markdown",
   "metadata": {},
   "source": [
    "#### Option 2:"
   ]
  },
  {
   "cell_type": "markdown",
   "metadata": {},
   "source": [
    "* Basics"
   ]
  },
  {
   "cell_type": "code",
   "execution_count": 144,
   "metadata": {},
   "outputs": [],
   "source": [
    "# Borja :)\n",
    "import string\n",
    "import pandas as pd\n",
    "import numpy as np\n",
    "import matplotlib.pyplot as plt\n",
    "%matplotlib inline\n",
    "import seaborn as sns\n",
    "from nltk import word_tokenize\n",
    "from nltk.corpus import stopwords\n",
    "import time\n",
    "import unicodedata\n",
    "try:\n",
    "    stopwords = set(stopwords.words('french'))\n",
    "except:\n",
    "    import nltk\n",
    "    nltk.download()\n",
    "    stopwords = set(stopwords.words('french'))\n",
    "# Adding nan/NaN just in case\n",
    "stopwords.add('nan')\n",
    "stopwords.add('NaN')\n",
    "stopwords.add('http')\n",
    "stopwords.add('https')\n",
    "stopwords.add('fr')\n",
    "stopwords.add('com')\n",
    "stopwords.add('www')\n",
    "# CONST\n",
    "LOWER_AMOUNT_CHARS = 3\n",
    "# Street number filter\n",
    "ST_MIN_LENGTH = 3\n",
    "# CP Filters\n",
    "CP_MIN_LENGTH = 3\n",
    "CP_MAX_LENGTH = 5\n",
    "# Accents removal\n",
    "def remove_accents(input_str):\n",
    "    nfkd_form = unicodedata.normalize('NFKD', input_str)\n",
    "    only_ascii = str(nfkd_form.encode('ASCII', 'ignore'))\n",
    "    return only_ascii\n",
    "\n",
    "def clean(text, remove_numbers = True):\n",
    "    text = word_tokenize(text)\n",
    "    if remove_numbers:\n",
    "        text = [word.lower() for word in text if word.isalpha()]\n",
    "    else:\n",
    "        text = [word.lower() if word.isalpha() else word for word in text]\n",
    "    punct = str.maketrans('', '', string.punctuation)\n",
    "    text = [word.translate(punct) for word in text]\n",
    "    # Remove stopwords\n",
    "    text = [word for word in text if not word in stopwords]\n",
    "    if remove_numbers:\n",
    "        # Remove tiny words less than LOWER_AMOUNT_CHARS\n",
    "        text = [word for word in text if (word.isalpha() and len(word) > LOWER_AMOUNT_CHARS)]\n",
    "    else:\n",
    "        text = [word for word in text if (word.isalpha() and len(word) > LOWER_AMOUNT_CHARS) or (word.isdigit())]\n",
    "    text = [remove_accents(word) if word.isalpha() else word for word in text]\n",
    "    return text\n",
    "\n",
    "def clean_simple(text, short_text = False):\n",
    "    text = word_tokenize(text)\n",
    "    text = [int(word) for word in text if word.isdigit()]\n",
    "    if len(text) > 1:\n",
    "        maxi = -1\n",
    "        for num in text:\n",
    "            if num > 10**CP_MIN_LENGTH and num <= 10**CP_MAX_LENGTH:\n",
    "                maxi = maxi if maxi > num else num\n",
    "        text = [maxi]\n",
    "    if not short_text:\n",
    "        text = [str(word) for word in text if word > 10**CP_MIN_LENGTH and word <= 10**CP_MAX_LENGTH]\n",
    "    else:\n",
    "        text = [str(word) for word in text if word <= 10**CP_MIN_LENGTH]\n",
    "    punct = str.maketrans('', '', string.punctuation)\n",
    "    text = [str(word.translate(punct)) for word in text]\n",
    "    text = [remove_accents(word) if word.isalpha() else word for word in text]\n",
    "    return text\n",
    "\n",
    "def clean_website(text):\n",
    "    text = text.split('//')\n",
    "    def _split_token(text, token):\n",
    "        text2 = []\n",
    "        for word in text:\n",
    "            words = word.split(token)\n",
    "            for w in words:\n",
    "                text2.append(w)\n",
    "        return text2\n",
    "    text = _split_token(text, '.')\n",
    "    text = _split_token(text, '-')\n",
    "    punct = str.maketrans('', '', string.punctuation)\n",
    "    text = [str(word.translate(punct)) for word in text]\n",
    "    # Remove stopwords\n",
    "    text = [word for word in text if not word in stopwords]\n",
    "    text = [remove_accents(word) if word.isalpha() else word for word in text]\n",
    "    return text"
   ]
  },
  {
   "cell_type": "markdown",
   "metadata": {},
   "source": [
    "* Load data"
   ]
  },
  {
   "cell_type": "code",
   "execution_count": 145,
   "metadata": {},
   "outputs": [
    {
     "name": "stdout",
     "output_type": "stream",
     "text": [
      "<class 'pandas.core.frame.DataFrame'>\n",
      "RangeIndex: 1826169 entries, 0 to 1826168\n",
      "Data columns (total 8 columns):\n",
      " #   Column         Dtype \n",
      "---  ------         ----- \n",
      " 0   id             object\n",
      " 1   name           object\n",
      " 2   street_number  object\n",
      " 3   street_type    object\n",
      " 4   street_name    object\n",
      " 5   address_line2  object\n",
      " 6   postal_code    object\n",
      " 7   city           object\n",
      "dtypes: object(8)\n",
      "memory usage: 111.5+ MB\n",
      "None\n",
      "<class 'pandas.core.frame.DataFrame'>\n",
      "RangeIndex: 3530302 entries, 0 to 3530301\n",
      "Data columns (total 4 columns):\n",
      " #   Column   Dtype \n",
      "---  ------   ----- \n",
      " 0   address  object\n",
      " 1   website  object\n",
      " 2   id       object\n",
      " 3   name     object\n",
      "dtypes: object(4)\n",
      "memory usage: 107.7+ MB\n",
      "None\n"
     ]
    }
   ],
   "source": [
    "df_1 = pd.read_csv('source1.tsv',sep = '\\t')\n",
    "df_1.loc[df_1.street_number.isna(),'street_number'] = -1\n",
    "df_1.street_number = df_1.street_number.astype(int)\n",
    "df_2 = pd.read_csv('source2.tsv',sep = '\\t')\n",
    "# Change numeric/object per string features\n",
    "for feature in df_1.columns.values:\n",
    "    df_1[feature]= df_1[feature].astype(str)\n",
    "for feature in df_2.columns.values:\n",
    "    df_2[feature] = df_2[feature].astype(str)\n",
    "print(df_1.info())\n",
    "print(df_2.info())"
   ]
  },
  {
   "cell_type": "markdown",
   "metadata": {},
   "source": [
    "* Clean website:"
   ]
  },
  {
   "cell_type": "code",
   "execution_count": 146,
   "metadata": {},
   "outputs": [
    {
     "name": "stdout",
     "output_type": "stream",
     "text": [
      "Preprocess time (df_2, website):  24.61469030380249\n"
     ]
    }
   ],
   "source": [
    "start_time = time.time()\n",
    "df_2['website_clean'] = df_2.website.apply(clean_website)\n",
    "df_2.website_clean = df_2['website_clean'].apply(lambda x: ' '.join(x)).astype(str)\n",
    "end_time = time.time()\n",
    "print('Preprocess time (df_2, website): ', end_time - start_time)"
   ]
  },
  {
   "cell_type": "code",
   "execution_count": 147,
   "metadata": {},
   "outputs": [
    {
     "name": "stdout",
     "output_type": "stream",
     "text": [
      "5     b'infirmiere' b'frederique' b'thevenard'\n",
      "12                                  b'peugeot'\n",
      "14               b'cocteau' b'site' b'solocal'\n",
      "15           b'bruno' b'magnetiseur' b'weebly'\n",
      "16                        b'assurancemarechal'\n",
      "Name: website_clean, dtype: object\n"
     ]
    }
   ],
   "source": [
    "print(df_2.loc[df_2.website != 'nan',].website_clean.head())"
   ]
  },
  {
   "cell_type": "markdown",
   "metadata": {},
   "source": [
    "* Clean the postal codes from df_2 (and df_1 just in case) by using the postal codes and try to create a proxy for street_number in df_2."
   ]
  },
  {
   "cell_type": "code",
   "execution_count": 148,
   "metadata": {},
   "outputs": [
    {
     "name": "stdout",
     "output_type": "stream",
     "text": [
      "Preprocess time (df_2, street number):  326.00912070274353\n",
      "Preprocess time (df_1):  120.87100124359131\n",
      "Preprocess time (df_2):  304.3135049343109\n"
     ]
    }
   ],
   "source": [
    "start_time = time.time()\n",
    "df_2['street_number_app'] = df_2.address.apply(clean_simple, args = [True])\n",
    "df_2.street_number_app = df_2['street_number_app'].apply(lambda x: ' '.join(x)).astype(str)\n",
    "end_time = time.time()\n",
    "print('Preprocess time (df_2, street number): ', end_time - start_time)\n",
    "start_time = time.time()\n",
    "df_1['postal_code_clean'] = df_1.postal_code.apply(clean_simple)\n",
    "end_time = time.time()\n",
    "print('Preprocess time (df_1): ', end_time - start_time)\n",
    "start_time = time.time()\n",
    "df_2['postal_code_clean'] = df_2.address.apply(clean_simple)\n",
    "end_time = time.time()\n",
    "print('Preprocess time (df_2): ', end_time - start_time)"
   ]
  },
  {
   "cell_type": "code",
   "execution_count": 149,
   "metadata": {},
   "outputs": [
    {
     "name": "stdout",
     "output_type": "stream",
     "text": [
      "0    [80120]\n",
      "1    [62140]\n",
      "2     [4000]\n",
      "3    [80210]\n",
      "4    [80210]\n",
      "Name: postal_code_clean, dtype: object\n",
      "0    [1380]\n",
      "1    [1380]\n",
      "2    [1380]\n",
      "3    [1380]\n",
      "4    [1380]\n",
      "Name: postal_code_clean, dtype: object\n",
      "0    \n",
      "1    \n",
      "2    \n",
      "3    \n",
      "4    \n",
      "Name: street_number_app, dtype: object\n"
     ]
    }
   ],
   "source": [
    "print(df_1.postal_code_clean.head())\n",
    "print(df_2.postal_code_clean.head())\n",
    "print(df_2.street_number_app.head())"
   ]
  },
  {
   "cell_type": "markdown",
   "metadata": {},
   "source": [
    "* Build extra features for tokenize and classify lates"
   ]
  },
  {
   "cell_type": "code",
   "execution_count": 150,
   "metadata": {},
   "outputs": [],
   "source": [
    "df_1['joint'] = df_1.street_type+' '+df_1.street_name +' '+df_1.city+' '+df_1.address_line2\n",
    "df_1['particular_information'] = df_1.name +' '+ df_1.street_number\n",
    "df_2['joint'] = df_2.address\n",
    "df_2['particular_information'] = df_2.street_number_app+' '+df_2.name+' '+df_2.website_clean"
   ]
  },
  {
   "cell_type": "markdown",
   "metadata": {},
   "source": [
    "* Build the vocabulary, for posterior analysis."
   ]
  },
  {
   "cell_type": "code",
   "execution_count": 151,
   "metadata": {},
   "outputs": [
    {
     "name": "stdout",
     "output_type": "stream",
     "text": [
      "Preprocess time (df_1):  159.8969886302948\n",
      "Preprocess time(df_2):  324.89404559135437\n",
      "joint \n",
      " 0                                        [b'fontaine']\n",
      "1                       [b'nationale', b'marconnelle']\n",
      "2    [b'saint', b'christophe', b'route', b'marseille']\n",
      "3                                         [b'pasteur']\n",
      "4                     [b'zone', b'hayettes', b'chepy']\n",
      "Name: joint, dtype: object\n",
      "joint \n",
      " 0                   [b'menthon', b'saint', b'menthon']\n",
      "1                      [b'bage', b'saint', b'menthon']\n",
      "2                   [b'menthon', b'saint', b'menthon']\n",
      "3    [b'moulin', b'chem', b'ruillat', b'saint', b'm...\n",
      "4                     [b'loeze', b'saint', b'menthon']\n",
      "Name: joint, dtype: object\n",
      "Preprocess time (df_1):  153.68264389038086\n",
      "Preprocess time(df_2):  383.8523745536804\n",
      "particular_information \n",
      " 0    [b'societe', b'sucreries', b'marquenterre', 1]\n",
      "1    [b'societe', b'sucreries', b'marquenterre', 1]\n",
      "2               [b'grand', b'cafe', b'gassendi', 1]\n",
      "3                    [b'hernas', b'cartonnage', 50]\n",
      "4                     [b'hernas', b'cartonnage', 1]\n",
      "Name: particular_information, dtype: object\n",
      "particular_information \n",
      " 0             [b'sandrine', b'berny']\n",
      "1    [b'sarl', b'landrix', b'freres']\n",
      "2         [b'marion', b'kwasniewski']\n",
      "3           [b'claude', b'fondation']\n",
      "4          [b'manigand', b'stephane']\n",
      "Name: particular_information, dtype: object\n"
     ]
    }
   ],
   "source": [
    "columns_clean = ['joint', 'particular_information']\n",
    "remove_numbers = [True, False]\n",
    "for i, column in enumerate(columns_clean):\n",
    "    start_time = time.time()\n",
    "    df_1[column] = df_1[column].apply(clean, args = [remove_numbers[i]])\n",
    "    end_time = time.time()\n",
    "    print('Preprocess time (df_1): ', end_time - start_time)\n",
    "    start_time = time.time()\n",
    "    df_2[column] = df_2[column].apply(clean, args = [remove_numbers[i]])\n",
    "    end_time = time.time()\n",
    "    print('Preprocess time(df_2): ', end_time - start_time)\n",
    "    # Sanity check\n",
    "    print(column,'\\n',df_1[column].head())\n",
    "    print(column,'\\n',df_2[column].head())"
   ]
  },
  {
   "cell_type": "code",
   "execution_count": 152,
   "metadata": {},
   "outputs": [
    {
     "name": "stdout",
     "output_type": "stream",
     "text": [
      "0             [b'sandrine', b'berny']\n",
      "1    [b'sarl', b'landrix', b'freres']\n",
      "2         [b'marion', b'kwasniewski']\n",
      "3           [b'claude', b'fondation']\n",
      "4          [b'manigand', b'stephane']\n",
      "Name: particular_information, dtype: object\n",
      "0    [b'societe', b'sucreries', b'marquenterre', 1]\n",
      "1    [b'societe', b'sucreries', b'marquenterre', 1]\n",
      "2               [b'grand', b'cafe', b'gassendi', 1]\n",
      "3                    [b'hernas', b'cartonnage', 50]\n",
      "4                     [b'hernas', b'cartonnage', 1]\n",
      "Name: particular_information, dtype: object\n",
      "0    \n",
      "1    \n",
      "2    \n",
      "3    \n",
      "4    \n",
      "Name: website_clean, dtype: object\n",
      "0    [80120]\n",
      "1    [62140]\n",
      "2     [4000]\n",
      "3    [80210]\n",
      "4    [80210]\n",
      "Name: postal_code_clean, dtype: object\n"
     ]
    }
   ],
   "source": [
    "print(df_2.particular_information.head())\n",
    "print(df_1.particular_information.head())\n",
    "print(df_2.website_clean.head())\n",
    "print(df_1.postal_code_clean.head())"
   ]
  },
  {
   "cell_type": "code",
   "execution_count": 153,
   "metadata": {},
   "outputs": [
    {
     "name": "stdout",
     "output_type": "stream",
     "text": [
      "Column:  postal_code_clean\n",
      "Total terms:  10433\n"
     ]
    },
    {
     "data": {
      "image/png": "[encoded data removed]",
      "text/plain": [
       "<Figure size 720x720 with 1 Axes>"
      ]
     },
     "metadata": {
      "needs_background": "light"
     },
     "output_type": "display_data"
    },
    {
     "name": "stdout",
     "output_type": "stream",
     "text": [
      "Column:  joint\n",
      "Total terms:  270740\n"
     ]
    },
    {
     "data": {
      "image/png": "[encoded data removed]",
      "text/plain": [
       "<Figure size 720x720 with 1 Axes>"
      ]
     },
     "metadata": {
      "needs_background": "light"
     },
     "output_type": "display_data"
    },
    {
     "name": "stdout",
     "output_type": "stream",
     "text": [
      "Column:  particular_information\n",
      "Total terms:  1656635\n"
     ]
    },
    {
     "data": {
      "image/png": "[encoded data removed]",
      "text/plain": [
       "<Figure size 720x720 with 1 Axes>"
      ]
     },
     "metadata": {
      "needs_background": "light"
     },
     "output_type": "display_data"
    }
   ],
   "source": [
    "def plot_terms_freqs(df_1, df_2, column = 'joint', less_common = False):\n",
    "    from collections import Counter\n",
    "    print('Column: ',column)\n",
    "    def _counter(text):\n",
    "        cnt = Counter()\n",
    "        for terms in text:\n",
    "            if isinstance(terms, str):\n",
    "                cnt[terms] += 1\n",
    "            else:\n",
    "                for t in terms:\n",
    "                    cnt[t] += 1\n",
    "        return cnt\n",
    "    doc_terms_vect = np.concatenate((np.array(df_1[column]), np.array(df_2[column])), axis = None)\n",
    "    terms_count = _counter(doc_terms_vect)\n",
    "    print('Total terms: ',len(terms_count.most_common()))\n",
    "    # Most common\n",
    "    common_words = terms_count.most_common(30)\n",
    "    common_words_df = pd.DataFrame(common_words, columns = ['Term','Count'])\n",
    "    plt.figure(figsize = (10, 10))\n",
    "    sns.barplot(y = 'Term', x = 'Count', data = common_words_df)\n",
    "    if less_common:\n",
    "        # Less common\n",
    "        less_common_words = (terms_count.most_common()[::-1])[0:30]\n",
    "        less_common_words_df = pd.DataFrame(less_common_words, columns = ['Term','Count'])\n",
    "        plt.figure(figsize = (10, 10))\n",
    "        sns.barplot(y = 'Term', x = 'Count', data = less_common_words_df)\n",
    "    plt.show()\n",
    "plot_terms_freqs(df_1, df_2, 'postal_code_clean')\n",
    "plot_terms_freqs(df_1, df_2)\n",
    "plot_terms_freqs(df_1, df_2, 'particular_information')"
   ]
  },
  {
   "cell_type": "code",
   "execution_count": 154,
   "metadata": {},
   "outputs": [],
   "source": [
    "columns_join = ['postal_code_clean','joint', 'particular_information']\n",
    "for column in columns_join:\n",
    "    df_1[column] = df_1[column].apply(lambda x: ' '.join(x)).astype(str)\n",
    "    df_2[column] = df_2[column].apply(lambda x: ' '.join(x)).astype(str)"
   ]
  },
  {
   "cell_type": "markdown",
   "metadata": {},
   "source": [
    "Steps:\n",
    "* Group by CP - to do so simply count the number of times each CP is in each entry, and the number of times a CP is unique in the document set. Vectorizing the rows is not required.\n",
    "* Cluster the street information (or not particular information):\n",
    "    * TF-IDF $$TF_D(t) = \\frac{Total\\ times\\ term\\ in\\ document_D}{Total\\ terms\\ in\\ document_D}$$ $$IDF(t,D) = log \\frac{|D|}{|\\{d \\in D/ t \\in d \\}|}$$ $$TF-IDF(t,D) = TF_D(t)\\cdot IDF(t,D)$$\n",
    "    * Apply kmeans to cluster this information:\n",
    "        * To optimize the clustering selection we can use different approaches but \"Elbow\" is a good and simple option.\n",
    "        * To perform the hyperparam (in our case max, and min document frequency, I have also though about using ngrams but finally I discarded it) selection we should go for something like cross validation (since the data is large approaches such \"Leave one out\" are discarded). However, a 10-fold or 5-fold CV might be useful to do a hyperparameter selection.\n",
    "        * To measure the quality of the clusters we can use any measure. I tipically prefer distance measures. Therefore, intracluster distance:$$minimize\\left(\\sum_{c \\in C} \\sum_{i \\in c} (X_i - \\hat{X}_c)^2 \\right)$$, where $\\hat{X}_c$ represents the \"centroid\" of the cluster c; or maximize intercluster distance $$maximize\\left(\\sum_{c \\in C}\\sum_{i \\notin c} (X_i - \\hat{X}_c)^2\\right)$$. In our case, we will use $inertia$ measure, which basically is out first measure.\n",
    "    * Tf-idf allows us to vectorize the rows while reducing the impact of highly repetitive words in the vocabulary.\n",
    "* Pair matches by using again Tf-idf as a vectorize strategy and cosine similarity to put together equal rows."
   ]
  },
  {
   "cell_type": "markdown",
   "metadata": {},
   "source": [
    "#### CP relation\n"
   ]
  },
  {
   "cell_type": "code",
   "execution_count": 155,
   "metadata": {},
   "outputs": [],
   "source": [
    "import sys, os\n",
    "from sklearn.feature_extraction.text import TfidfVectorizer, CountVectorizer\n",
    "from kneed import KneeLocator\n",
    "from sklearn.cluster import KMeans\n",
    "import matplotlib.pyplot as plt\n",
    "import warnings\n",
    "import numpy as np\n",
    "from numpy import dot\n",
    "from numpy.linalg import norm\n",
    "warnings.simplefilter(\"ignore\")\n",
    "# SEED\n",
    "SEED = 6543210\n",
    "np.random.seed(SEED)\n",
    "INF = 99999\n",
    "# Vectorization\n",
    "def vectorize(df_1, df_2, column = 'joint', max_features = None, ngram_range = (1,1), tfidf = False, min_df = 0.0, max_df = 1.0):\n",
    "    X_vectorize = np.concatenate((df_1[column].astype(str), df_2[column].astype(str)), axis = None)\n",
    "    if tfidf:\n",
    "        if max_features is not None:\n",
    "            vectorizer = TfidfVectorizer(analyzer = 'word',lowercase = True, max_features = max_features, ngram_range = ngram_range, min_df = min_df, max_df = max_df)\n",
    "            vectorizer_test = TfidfVectorizer(analyzer = 'word', lowercase = True, max_features = max_features, ngram_range = ngram_range).fit(X_vectorize)\n",
    "        else:\n",
    "            vectorizer = TfidfVectorizer(analyzer = 'word',lowercase = True, ngram_range = ngram_range, min_df = min_df, max_df = max_df)\n",
    "            vectorizer_test = TfidfVectorizer(analyzer = 'word', lowercase = True, ngram_range = ngram_range, min_df = min_df, max_df = max_df).fit(X_vectorize)\n",
    "    else:\n",
    "        vectorizer = CountVectorizer(analyzer = 'word',lowercase = False, ngram_range = ngram_range, min_df = min_df)\n",
    "        vectorizer_test = CountVectorizer(analyzer = 'word', lowercase = False, ngram_range = ngram_range, min_df = min_df).fit(X_vectorize)\n",
    "    #print('Vocabulary length: ',len(vectorizer_test.vocabulary_))\n",
    "    X_vectorized = vectorizer.fit_transform(X_vectorize)\n",
    "    return X_vectorized, vectorizer_test.vocabulary_\n",
    "# K-means clustering once PC has been used as cluster\n",
    "MIN_K, MAX_K = 2,10\n",
    "def custom_kmeans(X_vectorized, show = False):\n",
    "    sum_of_squares = []\n",
    "    keep_try = True\n",
    "    offset = 0\n",
    "    while keep_try:\n",
    "        K = range(MIN_K,MAX_K + offset)\n",
    "        for k in K:\n",
    "            km = KMeans(n_clusters=k,random_state = SEED)\n",
    "            km = km.fit(X_vectorized)\n",
    "            sum_of_squares.append(km.inertia_)\n",
    "        if show:\n",
    "            plt.plot(K, sum_of_squares, 'bx-')\n",
    "            plt.xlabel('k')\n",
    "            plt.ylabel('Sum_of_squared_distances')\n",
    "            plt.title('Elbow Method For Optimal k')\n",
    "            plt.show()\n",
    "\n",
    "        k = KneeLocator(K, sum_of_squares, S=1.0, curve=\"convex\", direction=\"decreasing\")\n",
    "        if k.knee is None:\n",
    "            offset += 10\n",
    "            sum_of_squares = []\n",
    "        else:\n",
    "            keep_try = False\n",
    "            km = KMeans(n_clusters=k.knee)\n",
    "            if show:\n",
    "                print('Optimal K: ',k.knee)\n",
    "            km = km.fit(X_vectorized)\n",
    "    return km.labels_, k.knee\n",
    "# Joining by using full_information_vectorization\n",
    "# max_features = None - we are interested in everything\n",
    "# ngrams_range = (1,1) - names, and short streets together\n",
    "def get_sim(df_1, df_2, column = 'particular_information', measure = 'cosine', max_df = 1.0, min_df = 0.0):\n",
    "    def _cosine_sim(np_vec_1, np_vect_2):\n",
    "        return dot(np_vec_1, np_vect_2)/(norm(np_vec_1)*norm(np_vect_2))\n",
    "    def _euclidean(np_vec_1, np_vect_2):\n",
    "        return norm(np_vec_1 - np_vect_2)\n",
    "    X_vectorized, vocabulary = vectorize(df_1, df_2, column = column, max_df = max_df, min_df = min_df)\n",
    "    X_vectorized = X_vectorized.toarray()\n",
    "    range_1, range_2 = df_1.shape[0], df_2.shape[0]\n",
    "    hits, misses = 0, []\n",
    "    pairs = dict()\n",
    "    for i in range(range_1):\n",
    "        min_dist, idx = -INF, -1\n",
    "        for j in range(range_2):\n",
    "            if measure == 'cosine':\n",
    "                local_sim = _cosine_sim(X_vectorized[i], X_vectorized[(range_1+j)])\n",
    "            elif measure == 'euclidean':\n",
    "                local_sim = _euclidean(X_vectorized[i], X_vectorized[(range_1+j)])\n",
    "            if local_sim > min_dist:\n",
    "                min_dist = local_sim\n",
    "                idx = df_2.id.iloc[j]\n",
    "        pairs[df_1.id.iloc[i]] = (min_dist, idx)\n",
    "        hits += (1 if df_1.id.iloc[i] == idx else 0)\n",
    "        if df_1.id.iloc[i] != idx:\n",
    "            misses.append((df_1.id.iloc[i], idx,min_dist))\n",
    "    return pairs, hits, misses"
   ]
  },
  {
   "cell_type": "markdown",
   "metadata": {},
   "source": [
    "* Get vocabulary of Postal codes"
   ]
  },
  {
   "cell_type": "code",
   "execution_count": 156,
   "metadata": {},
   "outputs": [
    {
     "name": "stdout",
     "output_type": "stream",
     "text": [
      "7474\n"
     ]
    }
   ],
   "source": [
    "# PostalCode vocabulary\n",
    "min_df = 2/float(df_1.shape[0] + df_2.shape[0])\n",
    "X_vectorized, vocabulary = vectorize(df_1,df_2,column = 'postal_code_clean', min_df = min_df)\n",
    "print(len(vocabulary))"
   ]
  },
  {
   "cell_type": "markdown",
   "metadata": {},
   "source": [
    "#### Evaluation\n",
    "\n",
    "* After postal code splitting:\n",
    "    * Cluster evaluation:\n",
    "        * How many clusters classifications matches correctly the id's?\n",
    "            * Obviously for $numCluster > 1$\n",
    "        * Measure as:\n",
    "            * Standar ML metrics (classification report)\n",
    "    * Matches - regular ML evaluation:\n",
    "        * True positives: correct match\n",
    "        * False positive: wrong match\n",
    "        * True negatives: correct lack of match, this are extremely tricky since they required us to decided whether or not a match is true or not based on the level of similarity. Options:\n",
    "            * Statistical analysis:\n",
    "                * Build the empirical distribution (EDF or CDF) from the rest of matches.\n",
    "                * Check $P(X \\leq x_{similarity}) < \\alpha$, where $x_{similarity}$ is the similarity of the assignment.\n",
    "        * False negative: wrong lack of match\n",
    "        * From here we can produce several measures.\n",
    "    * Alternatively, we can use some IR measures such as prec/acc/recall@5,10,15... by understanding a hit if the correct match is in the top 5 closest elements in the same cluster according to the measure used.\n",
    "* Global evaluation:\n",
    "    * % of relevant documents retrieved - in our context % of the total of id's with match correctly matched."
   ]
  },
  {
   "cell_type": "code",
   "execution_count": 157,
   "metadata": {},
   "outputs": [],
   "source": [
    "from sklearn.metrics import classification_report\n",
    "def evaluation_measures(obs, pred):\n",
    "    report = classification_report(obs,pred, output_dict = True) \n",
    "    return {key:report[key] for key in ['accuracy','weighted avg']}\n",
    "    \n",
    "def evaluation_measures_handmade(tp, fp, fn):\n",
    "    results = dict()\n",
    "    results['precision'] = tp/(tp+fp)\n",
    "    results['recall'] = tp/(tp + fn)\n",
    "    results['f1score'] = 2*results['precision']*results['recall']/(results['precision'] + results['recall'])\n",
    "    return results"
   ]
  },
  {
   "cell_type": "markdown",
   "metadata": {},
   "source": [
    "* Situation 1: CP is known and $|CP| > 1$."
   ]
  },
  {
   "cell_type": "code",
   "execution_count": 158,
   "metadata": {},
   "outputs": [],
   "source": [
    "from queue import Queue\n",
    "from threading import Thread\n",
    "\n",
    "DEBUG = False\n",
    "MAX_TIMES_IN_D = 3.\n",
    "MIN_TIMES_IN_D = 2.\n",
    "max_features = 100\n",
    "# Kmeans quality\n",
    "kmeans_qual = dict()\n",
    "# Match quality\n",
    "match_quality = dict()\n",
    "# Default Postral Code\n",
    "DEFAULT_CP = -1\n",
    "##### For threading purposes - this should not be done this way\n",
    "NUM_THREADS = 2\n",
    "q = Queue()\n",
    "def process(df_1, df_2):\n",
    "    global q\n",
    "    while not q.empty():\n",
    "        word = q.get()\n",
    "        print('Postal code: ',word)\n",
    "        if word != DEFAULT_CP:\n",
    "            df_tmp_1 = df_1.loc[df_1.postal_code_clean == word]\n",
    "            df_tmp_2 = df_2.loc[df_2.postal_code_clean == word]\n",
    "        else:\n",
    "            df_tmp_1 = df_1\n",
    "            df_tmp_2 = df_2\n",
    "        df_tmp_1.id = df_tmp_1.id.astype(str)+'.0'\n",
    "        df_tmp_2.id = df_tmp_2.id.astype(str)\n",
    "        id_set = set(df_tmp_1.id)\n",
    "        # By CP\n",
    "        ids_associated = id_set.intersection(df_tmp_2.id)\n",
    "        max_hits = len(id_set.intersection(df_tmp_2.id))\n",
    "        # Address analysisd\n",
    "        # X_tmp_vectorized, vocabulary_tmp = vectorize(df_tmp_1, df_tmp_2, column = 'joint', max_features = max_features, tfidf = True, max_df = 0.75)\n",
    "        max_df_custom = MAX_TIMES_IN_D / float(df_tmp_1.shape[0] + df_tmp_2.shape[0])\n",
    "        min_df_custom = MIN_TIMES_IN_D / float(df_tmp_1.shape[0] + df_tmp_2.shape[0]) \n",
    "        X_tmp_vectorized, vocabulary_tmp = vectorize(df_tmp_1, df_tmp_2, column = 'joint', tfidf = True, max_df = max_df_custom, min_df = min_df_custom)\n",
    "        if DEBUG:\n",
    "            print('Range_df: ',min_df_custom,' ',max_df_custom)\n",
    "            print('Shape (src1): ',df_tmp_1.shape)\n",
    "            print('Shape (src2): ',df_tmp_2.shape)\n",
    "            print('Vocabulary (len): ',len(vocabulary_tmp))\n",
    "            print('Maximum number of hits: ', max_hits)\n",
    "        columns = ['no_name']*len(vocabulary_tmp)\n",
    "        for word_tmp, pos in vocabulary_tmp.items():\n",
    "            columns[pos] = word_tmp\n",
    "        # df_tmp = pd.DataFrame(X_tmp_vectorized.toarray(), columns = columns)\n",
    "        labels, num_clusters = custom_kmeans(X_tmp_vectorized, show = DEBUG)\n",
    "        df_tmp_1['labels'] = labels[0:df_tmp_1.shape[0]]\n",
    "        offset = df_tmp_1.shape[0]\n",
    "        df_tmp_2['labels'] = labels[offset:offset + df_tmp_2.shape[0]]\n",
    "        # kmeans_qual[word] = float(np.sum(df_tmp_1.loc[df_tmp_1.id.isin(ids_associated),].sort_values(['id']).labels == df_tmp_2.loc[df_tmp_2.id.isin(ids_associated),].sort_values(['id']).labels)) / float(max_hits)\n",
    "        if DEBUG:\n",
    "            print(df_tmp_1.loc[df_tmp_1.id.isin(ids_associated),].sort_values(['id']).shape, df_tmp_2.loc[df_tmp_2.id.isin(ids_associated),].sort_values(['id']).shape)\n",
    "            print(df_tmp_1.loc[df_tmp_1.id.isin(ids_associated),].sort_values(['id']).labels.head(6))\n",
    "            print(df_tmp_2.loc[df_tmp_2.id.isin(ids_associated),].sort_values(['id']).labels.head(6))\n",
    "        obs, preds = df_tmp_1.loc[df_tmp_1.id.isin(ids_associated),].sort_values(['id']).labels,  df_tmp_2.loc[df_tmp_2.id.isin(ids_associated),].sort_values(['id']).labels\n",
    "        if len(obs) != len(preds):\n",
    "            print('Warning!! Repeated ID! Getting unique pairs')\n",
    "            obs = df_tmp_1.loc[df_tmp_1.id.isin(ids_associated),].groupby(['id','labels']).size().reset_index().sort_values(['id']).labels\n",
    "            preds = df_tmp_2.loc[df_tmp_2.id.isin(ids_associated),].groupby(['id','labels']).size().reset_index().sort_values(['id']).labels\n",
    "            print('Continue!')\n",
    "        kmeans_qual[word] = evaluation_measures(obs,preds)\n",
    "        # Evaluate matches\n",
    "        tp, fp, tn, fn, max_expected_hits = 0, 0, 0, 0, 0\n",
    "        for k in range(num_clusters):\n",
    "            df_tmp_local_1 = df_tmp_1.loc[df_tmp_1.labels == k,]\n",
    "            df_tmp_local_2 = df_tmp_2.loc[df_tmp_2.labels == k,]\n",
    "            id_local_set = set(df_tmp_local_1.id)\n",
    "            # By cluster\n",
    "            ids_local_associated = id_local_set.intersection(df_tmp_local_2.id)\n",
    "            max_expected_hits += len(id_local_set.intersection(df_tmp_local_2.id))\n",
    "            if df_tmp_local_1.shape[0] == 0 or df_tmp_local_2.shape[0] == 0:\n",
    "                continue\n",
    "            if DEBUG:\n",
    "                print(df_tmp_local_1.loc[df_tmp_local_1.id.isin(ids_associated),].sort_values(['id']).particular_information.head(6))\n",
    "                print(df_tmp_local_2.loc[df_tmp_local_2.id.isin(ids_associated),].sort_values(['id']).particular_information.head(6))\n",
    "            # Filter\n",
    "            max_df_custom_local = MAX_TIMES_IN_D / float(df_tmp_local_1.shape[0] + df_tmp_local_2.shape[0])\n",
    "            min_df_custom_local = 1 / float(df_tmp_local_1.shape[0] + df_tmp_local_2.shape[0]) \n",
    "            assignations, hits, misses = get_sim(df_tmp_local_1, df_tmp_local_2, max_df = max_df_custom_local, min_df = min_df_custom_local)\n",
    "            # Metrics\n",
    "            tp += hits\n",
    "            for t in misses:\n",
    "                if t[0] not in ids_associated:\n",
    "                    fn += 1\n",
    "                else:\n",
    "                    fp += 1\n",
    "        if DEBUG:\n",
    "            print(tp,' out of ', max_hits,' expected max ',max_expected_hits)\n",
    "        match_quality[word] = (evaluation_measures_handmade(tp,fp,fn))\n",
    "        q.task_done()\n",
    "    #sys.exit(1)"
   ]
  },
  {
   "cell_type": "code",
   "execution_count": 163,
   "metadata": {},
   "outputs": [
    {
     "name": "stdout",
     "output_type": "stream",
     "text": [
      "Postal code:  80120\n",
      "Postal code:  62140\n",
      "Postal code:  4000\n",
      "Postal code:  80210\n",
      "Postal code:  80510\n",
      "Postal code:  80570\n",
      "Postal code:  4370\n",
      "Postal code:  4260\n",
      "Postal code:  44570\n",
      "Postal code:  85640\n",
      "Postal code:  80100\n",
      "Warning!! Repeated ID! Getting unique pairs\n",
      "Continue!\n",
      "Postal code:  76370\n",
      "Postal code:  80132\n",
      "Postal code:  4240\n",
      "Postal code:  44550\n",
      "Kmeans_quality:  {'80120': {'accuracy': 0.9946524064171123, 'weighted avg': {'precision': 0.9893335633373583, 'recall': 0.9946524064171123, 'f1-score': 0.9919858166251063, 'support': 187}}, '62140': {'accuracy': 0.9795918367346939, 'weighted avg': {'precision': 0.9795918367346939, 'recall': 0.9795918367346939, 'f1-score': 0.9795918367346939, 'support': 196}}, '80510': {'accuracy': 0.95, 'weighted avg': {'precision': 1.0, 'recall': 0.95, 'f1-score': 0.9742424242424242, 'support': 20}}, '4000': {'accuracy': 0.9971751412429378, 'weighted avg': {'precision': 1.0, 'recall': 0.9971751412429378, 'f1-score': 0.9985855557436107, 'support': 354}}, '80210': {'accuracy': 0.9489795918367347, 'weighted avg': {'precision': 0.9691584498968127, 'recall': 0.9489795918367347, 'f1-score': 0.9589569160997734, 'support': 98}}, -1: {'accuracy': 1.0, 'weighted avg': {'precision': 1.0, 'recall': 1.0, 'f1-score': 1.0, 'support': 1073}}, '80570': {'accuracy': 0.75, 'weighted avg': {'precision': 1.0, 'recall': 0.75, 'f1-score': 0.85, 'support': 12}}, '4370': {'accuracy': 0.5833333333333334, 'weighted avg': {'precision': 0.34027777777777785, 'recall': 0.5833333333333334, 'f1-score': 0.4298245614035088, 'support': 12}}, '4260': {'accuracy': 1.0, 'weighted avg': {'precision': 1.0, 'recall': 1.0, 'f1-score': 1.0, 'support': 24}}, '44570': {'accuracy': 0.9359605911330049, 'weighted avg': {'precision': 0.9032552942968868, 'recall': 0.9359605911330049, 'f1-score': 0.919307500355559, 'support': 203}}, '85640': {'accuracy': 1.0, 'weighted avg': {'precision': 1.0, 'recall': 1.0, 'f1-score': 1.0, 'support': 42}}, '80100': {'accuracy': 0.9809322033898306, 'weighted avg': {'precision': 0.9830326225624203, 'recall': 0.9809322033898306, 'f1-score': 0.981981284931457, 'support': 472}}, '76370': {'accuracy': 0.9703703703703703, 'weighted avg': {'precision': 0.9486570540005653, 'recall': 0.9703703703703703, 'f1-score': 0.9593879593879594, 'support': 135}}, '80132': {'accuracy': 0.9381443298969072, 'weighted avg': {'precision': 0.918432083380537, 'recall': 0.9381443298969072, 'f1-score': 0.9281786941580756, 'support': 97}}, '4240': {'accuracy': 1.0, 'weighted avg': {'precision': 1.0, 'recall': 1.0, 'f1-score': 1.0, 'support': 29}}}\n",
      "Matchs_quality:  {'80120': {'precision': 0.5561497326203209, 'recall': 0.4622222222222222, 'f1score': 0.5048543689320388}, '80510': {'precision': 0.45, 'recall': 0.5625, 'f1score': 0.5}, '62140': {'precision': 0.47959183673469385, 'recall': 0.4973544973544973, 'f1score': 0.4883116883116883}, '80210': {'precision': 0.5257731958762887, 'recall': 0.5151515151515151, 'f1score': 0.5204081632653061}, '4000': {'precision': 0.5, 'recall': 0.4585492227979275, 'f1score': 0.4783783783783784}, '80570': {'precision': 0.4166666666666667, 'recall': 0.45454545454545453, 'f1score': 0.43478260869565216}, '4370': {'precision': 0.5, 'recall': 0.125, 'f1score': 0.2}, '4260': {'precision': 0.4166666666666667, 'recall': 0.1724137931034483, 'f1score': 0.2439024390243903}, '44570': {'precision': 0.48484848484848486, 'recall': 0.5363128491620112, 'f1score': 0.5092838196286472}, '85640': {'precision': 0.7619047619047619, 'recall': 0.5714285714285714, 'f1score': 0.6530612244897959}, '76370': {'precision': 0.6165413533834586, 'recall': 0.2949640287769784, 'f1score': 0.3990267639902676}, '80132': {'precision': 0.4375, 'recall': 0.3442622950819672, 'f1score': 0.3853211009174312}, '4240': {'precision': 0.5172413793103449, 'recall': 0.42857142857142855, 'f1score': 0.46875000000000006}}\n"
     ]
    }
   ],
   "source": [
    "# Threadding\n",
    "for i, (word,pos) in enumerate(vocabulary.items()):\n",
    "    if i == 15:\n",
    "        break\n",
    "    q.put(word)\n",
    "    \n",
    "for t in range(NUM_THREADS):\n",
    "        worker = Thread(target=process, args = [df_1,df_2])\n",
    "        worker.daemon = True\n",
    "        worker.start() \n",
    "time.sleep(5)\n",
    "while not q.empty():\n",
    "    time.sleep(30)\n",
    "print('Kmeans_quality: ', kmeans_qual)\n",
    "print('Matchs_quality: ', match_quality)"
   ]
  },
  {
   "cell_type": "markdown",
   "metadata": {},
   "source": [
    "* Situation 2: CP is unknown or $|CP| \\leq 1$"
   ]
  },
  {
   "cell_type": "code",
   "execution_count": 164,
   "metadata": {},
   "outputs": [
    {
     "name": "stdout",
     "output_type": "stream",
     "text": [
      "% Cases (df_1):  0.0009511715509353186 % 1737\n",
      "% Cases (df_2):  0.005672035990122092 % 20024\n",
      "Postal code:  -1\n",
      "Warning!! Repeated ID! Getting unique pairs\n",
      "Continue!\n"
     ]
    }
   ],
   "source": [
    "vocabulary_set_cp = set(vocabulary.keys())\n",
    "df_1_nocp = df_1.loc[~(df_1.postal_code_clean.isin(vocabulary_set_cp)),]\n",
    "df_2_nocp = df_2.loc[~(df_2.postal_code_clean.isin(vocabulary_set_cp)),]\n",
    "print('% Cases (df_1): ', (float(df_1_nocp.shape[0]) / (df_1.shape[0] * 1.)),'%',df_1_nocp.shape[0])\n",
    "print('% Cases (df_2): ', (float(df_2_nocp.shape[0]) / (df_2.shape[0] * 1.)),'%',df_2_nocp.shape[0])\n",
    "# Default CP = -1\n",
    "q.put(DEFAULT_CP)\n",
    "process(df_1_nocp, df_2_nocp)"
   ]
  },
  {
   "cell_type": "markdown",
   "metadata": {},
   "source": [
    "## Problems of the approach:\n",
    "* There is no perfer solution (or maybe for this problem there is). However, I think that this approach that I have implemented has some serious problems:\n",
    "    * Basically, for all of the data with Postal Code you are getting an associationg no matter it is correct or not. Possible improvals:\n",
    "\t\t*  If the association is with a Nan reject the association and store that row as not assigned to further analysis.\n",
    "\t\t* Get a histogram (or a density estimation) of the divergence measures achieved, cut at 0.1 and everything below reject that assignation. We will look for a better match in a larger pool.\n",
    "\t\t* Try several distances not only one, by getting several distances we can decrease the probability of random error.\n",
    "    * Evaluation is not actually accurate, since we can have different similarities is not a good practice to keep only the most similar assignation. What happens if the number of terms that the row has is 2, and one of them is relevant for the match (thus relevant in terms of tf-idf) and the other one is not relevant for the match but it is a wrong spelled word (thus relevant in terms of tf-idf). I should implement some IR measures and store the top@N similarities."
   ]
  },
  {
   "cell_type": "code",
   "execution_count": null,
   "metadata": {},
   "outputs": [],
   "source": []
  }
 ],
 "metadata": {
  "kernelspec": {
   "display_name": "Python 3 (ipykernel)",
   "language": "python",
   "name": "python3"
  },
  "language_info": {
   "codemirror_mode": {
    "name": "ipython",
    "version": 3
   },
   "file_extension": ".py",
   "mimetype": "text/x-python",
   "name": "python",
   "nbconvert_exporter": "python",
   "pygments_lexer": "ipython3",
   "version": "3.7.12"
  }
 },
 "nbformat": 4,
 "nbformat_minor": 4
}
