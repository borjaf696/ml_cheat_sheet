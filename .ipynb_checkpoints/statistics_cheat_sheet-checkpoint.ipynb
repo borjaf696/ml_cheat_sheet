{
 "cells": [
  {
   "cell_type": "markdown",
   "id": "a07910bf",
   "metadata": {},
   "source": [
    "# Cheat sheet de estadística para ciencia de datos"
   ]
  },
  {
   "cell_type": "markdown",
   "id": "435ae496",
   "metadata": {},
   "source": [
    "## Probabilidad \n",
    "\n",
    "### Teorema de Bayes\n",
    "\n",
    "#### Probabilidad condicional\n",
    "\n",
    "##### Ejemplos típicos\n",
    "\n",
    "## Distribuciones típicas\n",
    "\n",
    "### Discretas\n",
    "\n",
    "### Continuas\n"
   ]
  },
  {
   "cell_type": "markdown",
   "id": "cbd6d032",
   "metadata": {},
   "source": []
  },
  {
   "cell_type": "markdown",
   "id": "e912efcc",
   "metadata": {},
   "source": [
    "## Análisis de significancia\n",
    "\n",
    "#### ANOVA:\n",
    "\n",
    "##### ANOVA: Efectos fijos\n",
    "\n",
    "##### ANOVA: Efectos aleatorios\n",
    "\n",
    "#### Análisis de la covarianza (ANCOVA):\n"
   ]
  },
  {
   "cell_type": "code",
   "execution_count": null,
   "id": "83c5eccf",
   "metadata": {},
   "outputs": [],
   "source": []
  },
  {
   "cell_type": "markdown",
   "id": "4614ca54",
   "metadata": {},
   "source": [
    "## Tests clásicos\n",
    "\n",
    "#### AB Testing\n",
    "\n",
    "#### Test de medias\n",
    "\n",
    "#### Test $\\chi^2$\n",
    "\n",
    "#### Test $t$-student"
   ]
  },
  {
   "cell_type": "code",
   "execution_count": null,
   "id": "37c2fcdd",
   "metadata": {},
   "outputs": [],
   "source": []
  },
  {
   "cell_type": "markdown",
   "id": "6a04d0de",
   "metadata": {},
   "source": [
    "## Test no paramétricos:\n",
    "\n",
    "##### Kolmogorov Smirnoff\n",
    "\n",
    "##### Basados en momentos:\n",
    "\n",
    "###### Dagostino Pearson\n",
    "\n",
    "###### Jarque Bera\n",
    "\n",
    "#### Kruskal-Wallis\n",
    "\n",
    "#### Friedman\n",
    "\n",
    "#### Test de rachas de Wolfowitz\n",
    "\n",
    "#### Test de wilcoxon\n",
    "\n",
    "####"
   ]
  },
  {
   "cell_type": "code",
   "execution_count": null,
   "id": "df102477",
   "metadata": {},
   "outputs": [],
   "source": []
  }
 ],
 "metadata": {
  "kernelspec": {
   "display_name": "Python 3 (ipykernel)",
   "language": "python",
   "name": "python3"
  },
  "language_info": {
   "codemirror_mode": {
    "name": "ipython",
    "version": 3
   },
   "file_extension": ".py",
   "mimetype": "text/x-python",
   "name": "python",
   "nbconvert_exporter": "python",
   "pygments_lexer": "ipython3",
   "version": "3.7.12"
  }
 },
 "nbformat": 4,
 "nbformat_minor": 5
}
