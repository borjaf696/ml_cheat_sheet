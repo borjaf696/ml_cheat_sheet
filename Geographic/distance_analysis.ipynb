{
 "cells": [
  {
   "cell_type": "markdown",
   "metadata": {},
   "source": [
    "#### Distances analysis (different metrics)"
   ]
  },
  {
   "cell_type": "code",
   "execution_count": 1,
   "metadata": {},
   "outputs": [
    {
     "name": "stdout",
     "output_type": "stream",
     "text": [
      "/Users/temporaryadmin/Documents/GitHub/ml_cheat_sheet/Geographic\n"
     ]
    },
    {
     "name": "stderr",
     "output_type": "stream",
     "text": [
      "/Users/temporaryadmin/opt/anaconda3/envs/tensorflow/lib/python3.8/site-packages/geopandas/_compat.py:112: UserWarning: The Shapely GEOS version (3.10.2-CAPI-1.16.0) is incompatible with the GEOS version PyGEOS was compiled with (3.10.1-CAPI-1.16.0). Conversions between both will be slow.\n",
      "  warnings.warn(\n",
      "/var/folders/j6/d03ry30j6fxdgll0b5v9zv6c0000gp/T/ipykernel_85223/1077199270.py:12: TqdmDeprecationWarning: This function will be removed in tqdm==5.0.0\n",
      "Please use `tqdm.notebook.*` instead of `tqdm._tqdm_notebook.*`\n",
      "  from tqdm._tqdm_notebook import tqdm_notebook\n"
     ]
    },
    {
     "name": "stdout",
     "output_type": "stream",
     "text": [
      "time: 4.9 s (started: 2022-07-21 08:15:28 +02:00)\n"
     ]
    }
   ],
   "source": [
    "%load_ext autotime\n",
    "import sys, os\n",
    "print(os.getcwd())\n",
    "import pandas as pd\n",
    "import geopandas as gpd\n",
    "import geopy\n",
    "from geopy.geocoders import Nominatim\n",
    "from geopy.extra.rate_limiter import RateLimiter\n",
    "import matplotlib.pyplot as plt\n",
    "import plotly_express as px\n",
    "from tqdm import tqdm\n",
    "from tqdm._tqdm_notebook import tqdm_notebook\n",
    "\n",
    "import matplotlib.pyplot as plt\n",
    "from matplotlib.patches import Ellipse\n",
    "import seaborn as sns\n",
    "import pysal\n",
    "import contextily\n",
    "\n",
    "import osmnx as ox\n",
    "import numpy as np\n",
    "from sklearn.metrics.pairwise import haversine_distances\n",
    "\n",
    "from scipy.spatial.distance import euclidean\n",
    "import datetime\n",
    "\n",
    "from tqdm.notebook import tqdm\n",
    "import random\n",
    "from geopy import distance\n",
    "import haversine as hs\n",
    "import networkx as nx\n",
    "\n",
    "from dao.connector import Connector\n",
    "\n",
    "import mlflow\n",
    "from datetime import datetime\n",
    "import logging\n",
    "formatter = logging.Formatter('%(asctime)s - %(name)s - %(levelname)s - %(message)s')\n",
    "file_handler = logging.FileHandler('exceptions/exceptions_handler.log', mode=\"w+\", encoding=None, delay=False)\n",
    "file_handler.setLevel(level=logging.DEBUG)\n",
    "file_handler.setFormatter(formatter)\n",
    "logging.getLogger().addHandler(file_handler)\n",
    "\n",
    "import warnings\n",
    "warnings.filterwarnings(\"ignore\")\n",
    "\n",
    "SEED = 6543210\n",
    "TEST_SIZE = 0.0001\n",
    "CURR_PREC = 4\n",
    "R = 6371 # Earth radius\n",
    "INF = 999999"
   ]
  },
  {
   "cell_type": "code",
   "execution_count": 22,
   "metadata": {},
   "outputs": [
    {
     "name": "stdout",
     "output_type": "stream",
     "text": [
      "time: 4.21 ms (started: 2022-07-21 08:36:55 +02:00)\n"
     ]
    }
   ],
   "source": [
    "def _to_cartesian(loc_degrees):\n",
    "    '''\n",
    "    loc_degrees = (lat, lon)\n",
    "    '''\n",
    "    R = 6371*10**3\n",
    "    loc = np.radians(loc_degrees[0]), np.radians(loc_degrees[1])\n",
    "    return R*np.cos(loc[0])*np.cos(loc[1]), R*np.sin(loc[1])*np.cos(loc[0]), R*np.sin(loc[0])\n",
    "\n",
    "def _to_cartesian_df(loc, col = ['lon','lat']):\n",
    "    '''\n",
    "    loc = lon, lat\n",
    "    '''\n",
    "    R = 6371\n",
    "    return R*np.cos(loc[col[0]])*np.cos(loc[col[1]]), \\\n",
    "        R*np.sin(loc[col[1]])*np.cos(loc[col[0]]), R*np.sin(loc[col[0]])\n",
    "\n",
    "def get_distance(x, method = 'haversine'):\n",
    "    '''\n",
    "    x - dataframe row with columns:\n",
    "        * lat_cluster, lon_cluster (degrees)\n",
    "        * next_lat_cluster, lon_next_cluster (degrees)\n",
    "    Return:\n",
    "        * Distance in meters\n",
    "    '''\n",
    "    if x.next_lat_cluster == -1:\n",
    "        return 0\n",
    "    if method == 'haversine':\n",
    "        return hs.haversine((float(x.lat_cluster), float(x.lon_cluster))\\\n",
    "                , (float(x.next_lat_cluster), float(x.next_lon_cluster)))*1e3\n",
    "    elif method == 'manhattan':\n",
    "        loc_1 = _to_cartesian((float(x.lat_cluster), float(x.lon_cluster)))\n",
    "        loc_2 = _to_cartesian((float(x.next_lat_cluster), float(x.next_lon_cluster)))\n",
    "        return np.abs(loc_1[0] - loc_2[0]) + \\\n",
    "            np.abs(loc_1[1] - loc_2[1]) + np.abs(loc_1[2] - loc_2[2])\n",
    "    elif method == 'euclidean':\n",
    "        loc_1 = _to_cartesian((float(x.lat_cluster), float(x.lon_cluster)))\n",
    "        loc_2 = _to_cartesian((float(x.next_lat_cluster), float(x.next_lon_cluster)))\n",
    "        return np.sqrt((loc_1[0] - loc_2[0])**2 + \\\n",
    "            (loc_1[1] - loc_2[1])**2 + (loc_1[2] - loc_2[2])**2)\n",
    "    sys.exit()\n",
    "\n",
    "def __distance_measure(v_1, v_2, coords = False, method = 'euclidean'):\n",
    "    '''\n",
    "    Multiple distances\n",
    "    Multiple dimensional\n",
    "    '''\n",
    "    def __hav(d):\n",
    "        return (1 - np.cos(d))/2\n",
    "    R = 6371*10**3\n",
    "    if method == 'haversine':\n",
    "        assert coords\n",
    "        hav = 2*R*np.arcsin(np.sqrt(__hav(np.radians(v_1[0] - v_2[0]))\\\n",
    "            + (1 - __hav(np.radians(v_2[0] - v_1[0])) \\\n",
    "                - __hav(np.radians(v_2[0] + v_1[0])))\\\n",
    "                    * __hav(np.radians(v_1[1] - v_2[1])))\n",
    "            )\n",
    "        print('Haversine custom: ',hav)\n",
    "        return hs.haversine(v_1, v_2)*1e3\n",
    "    if coords:\n",
    "        v_1,v_2 = _to_cartesian(v_1), _to_cartesian(v_2)\n",
    "        print(v_1, v_2)\n",
    "    distance = 0.\n",
    "    for i, _ in enumerate(v_1):\n",
    "        if method == 'euclidean':\n",
    "            distance += (v_1[i] - v_2[i])**2\n",
    "        elif method == 'manhattan':\n",
    "            distance += np.abs((v_1[i] - v_2[i]))\n",
    "    return np.sqrt(distance) if method == 'euclidean' else distance\n"
   ]
  },
  {
   "cell_type": "code",
   "execution_count": 18,
   "metadata": {},
   "outputs": [
    {
     "name": "stdout",
     "output_type": "stream",
     "text": [
      "time: 2min 19s (started: 2022-07-21 08:33:37 +02:00)\n"
     ]
    }
   ],
   "source": [
    "NUM_ROWS_ANALYSIS = 1e5\n",
    "connector = Connector()\n",
    "df = connector.get_data_file('big_query_queries/points_rides.sql')\n",
    "# df = pd.read_parquet(\"location_for_agglines.gzip\")\n",
    "df['date_creation'] = pd.to_datetime(df.created_at, infer_datetime_format=True)\n",
    "df['doy'] = df.date_creation.dt.dayofyear\n",
    "df['year'] = df.date_creation.dt.year\n",
    "df.lon, df.lat = df.lon.round(decimals = CURR_PREC), df.lat.round(decimals = CURR_PREC)\n",
    "df.next_lon, df.next_lat = df.next_lon.round(decimals = CURR_PREC), df.next_lat.round(decimals = CURR_PREC)\n",
    "df['lon_rad'], df['lat_rad'] = np.radians(df.lon), np.radians(df.lat)\n",
    "df['idx'] = list(range(df.shape[0]))"
   ]
  },
  {
   "cell_type": "code",
   "execution_count": 20,
   "metadata": {},
   "outputs": [
    {
     "name": "stdout",
     "output_type": "stream",
     "text": [
      "['rider_id' 'order_id' 'created_at' 'lat' 'lon' 'next_lon' 'next_lat' 'dt'\n",
      " 'dx' 'accuracy' 'speed' 'date_creation' 'doy' 'year' 'lon_rad' 'lat_rad'\n",
      " 'idx']\n"
     ]
    },
    {
     "data": {
      "text/html": [
       "<div>\n",
       "<style scoped>\n",
       "    .dataframe tbody tr th:only-of-type {\n",
       "        vertical-align: middle;\n",
       "    }\n",
       "\n",
       "    .dataframe tbody tr th {\n",
       "        vertical-align: top;\n",
       "    }\n",
       "\n",
       "    .dataframe thead th {\n",
       "        text-align: right;\n",
       "    }\n",
       "</style>\n",
       "<table border=\"1\" class=\"dataframe\">\n",
       "  <thead>\n",
       "    <tr style=\"text-align: right;\">\n",
       "      <th></th>\n",
       "      <th>rider_id</th>\n",
       "      <th>order_id</th>\n",
       "      <th>created_at</th>\n",
       "      <th>lat</th>\n",
       "      <th>lon</th>\n",
       "      <th>next_lon</th>\n",
       "      <th>next_lat</th>\n",
       "      <th>dt</th>\n",
       "      <th>dx</th>\n",
       "      <th>accuracy</th>\n",
       "      <th>...</th>\n",
       "      <th>date_creation</th>\n",
       "      <th>doy</th>\n",
       "      <th>year</th>\n",
       "      <th>lon_rad</th>\n",
       "      <th>lat_rad</th>\n",
       "      <th>idx</th>\n",
       "      <th>lat_cluster</th>\n",
       "      <th>lon_cluster</th>\n",
       "      <th>next_lat_cluster</th>\n",
       "      <th>next_lon_cluster</th>\n",
       "    </tr>\n",
       "  </thead>\n",
       "  <tbody>\n",
       "    <tr>\n",
       "      <th>0</th>\n",
       "      <td>44970</td>\n",
       "      <td>45225552</td>\n",
       "      <td>2022-06-01 08:54:54+00:00</td>\n",
       "      <td>25.2478</td>\n",
       "      <td>51.5598</td>\n",
       "      <td>-1.0000</td>\n",
       "      <td>-1.0000</td>\n",
       "      <td>&lt;NA&gt;</td>\n",
       "      <td>NaN</td>\n",
       "      <td>3.79</td>\n",
       "      <td>...</td>\n",
       "      <td>2022-06-01 08:54:54+00:00</td>\n",
       "      <td>152</td>\n",
       "      <td>2022</td>\n",
       "      <td>0.899888</td>\n",
       "      <td>0.440657</td>\n",
       "      <td>0</td>\n",
       "      <td>25.2478</td>\n",
       "      <td>51.5598</td>\n",
       "      <td>-1.0000</td>\n",
       "      <td>-1.0000</td>\n",
       "    </tr>\n",
       "    <tr>\n",
       "      <th>1</th>\n",
       "      <td>44970</td>\n",
       "      <td>45225552</td>\n",
       "      <td>2022-06-01 08:55:13+00:00</td>\n",
       "      <td>25.2481</td>\n",
       "      <td>51.5599</td>\n",
       "      <td>51.5598</td>\n",
       "      <td>25.2478</td>\n",
       "      <td>19</td>\n",
       "      <td>44.452098</td>\n",
       "      <td>3.79</td>\n",
       "      <td>...</td>\n",
       "      <td>2022-06-01 08:55:13+00:00</td>\n",
       "      <td>152</td>\n",
       "      <td>2022</td>\n",
       "      <td>0.899890</td>\n",
       "      <td>0.440662</td>\n",
       "      <td>1</td>\n",
       "      <td>25.2481</td>\n",
       "      <td>51.5599</td>\n",
       "      <td>25.2478</td>\n",
       "      <td>51.5598</td>\n",
       "    </tr>\n",
       "    <tr>\n",
       "      <th>2</th>\n",
       "      <td>44970</td>\n",
       "      <td>45225552</td>\n",
       "      <td>2022-06-01 08:55:42+00:00</td>\n",
       "      <td>25.2488</td>\n",
       "      <td>51.5595</td>\n",
       "      <td>51.5599</td>\n",
       "      <td>25.2481</td>\n",
       "      <td>29</td>\n",
       "      <td>79.960928</td>\n",
       "      <td>3.79</td>\n",
       "      <td>...</td>\n",
       "      <td>2022-06-01 08:55:42+00:00</td>\n",
       "      <td>152</td>\n",
       "      <td>2022</td>\n",
       "      <td>0.899883</td>\n",
       "      <td>0.440675</td>\n",
       "      <td>2</td>\n",
       "      <td>25.2488</td>\n",
       "      <td>51.5595</td>\n",
       "      <td>25.2481</td>\n",
       "      <td>51.5599</td>\n",
       "    </tr>\n",
       "    <tr>\n",
       "      <th>3</th>\n",
       "      <td>44970</td>\n",
       "      <td>45225552</td>\n",
       "      <td>2022-06-01 08:56:14+00:00</td>\n",
       "      <td>25.2491</td>\n",
       "      <td>51.5593</td>\n",
       "      <td>51.5595</td>\n",
       "      <td>25.2488</td>\n",
       "      <td>32</td>\n",
       "      <td>48.267785</td>\n",
       "      <td>3.79</td>\n",
       "      <td>...</td>\n",
       "      <td>2022-06-01 08:56:14+00:00</td>\n",
       "      <td>152</td>\n",
       "      <td>2022</td>\n",
       "      <td>0.899880</td>\n",
       "      <td>0.440680</td>\n",
       "      <td>3</td>\n",
       "      <td>25.2491</td>\n",
       "      <td>51.5593</td>\n",
       "      <td>25.2488</td>\n",
       "      <td>51.5595</td>\n",
       "    </tr>\n",
       "    <tr>\n",
       "      <th>4</th>\n",
       "      <td>44970</td>\n",
       "      <td>45225552</td>\n",
       "      <td>2022-06-01 08:56:45+00:00</td>\n",
       "      <td>25.2500</td>\n",
       "      <td>51.5604</td>\n",
       "      <td>51.5593</td>\n",
       "      <td>25.2491</td>\n",
       "      <td>31</td>\n",
       "      <td>144.043612</td>\n",
       "      <td>3.79</td>\n",
       "      <td>...</td>\n",
       "      <td>2022-06-01 08:56:45+00:00</td>\n",
       "      <td>152</td>\n",
       "      <td>2022</td>\n",
       "      <td>0.899899</td>\n",
       "      <td>0.440696</td>\n",
       "      <td>4</td>\n",
       "      <td>25.2500</td>\n",
       "      <td>51.5604</td>\n",
       "      <td>25.2491</td>\n",
       "      <td>51.5593</td>\n",
       "    </tr>\n",
       "  </tbody>\n",
       "</table>\n",
       "<p>5 rows × 21 columns</p>\n",
       "</div>"
      ],
      "text/plain": [
       "   rider_id  order_id                created_at      lat      lon  next_lon  \\\n",
       "0     44970  45225552 2022-06-01 08:54:54+00:00  25.2478  51.5598   -1.0000   \n",
       "1     44970  45225552 2022-06-01 08:55:13+00:00  25.2481  51.5599   51.5598   \n",
       "2     44970  45225552 2022-06-01 08:55:42+00:00  25.2488  51.5595   51.5599   \n",
       "3     44970  45225552 2022-06-01 08:56:14+00:00  25.2491  51.5593   51.5595   \n",
       "4     44970  45225552 2022-06-01 08:56:45+00:00  25.2500  51.5604   51.5593   \n",
       "\n",
       "   next_lat    dt          dx  accuracy  ...             date_creation  doy  \\\n",
       "0   -1.0000  <NA>         NaN      3.79  ... 2022-06-01 08:54:54+00:00  152   \n",
       "1   25.2478    19   44.452098      3.79  ... 2022-06-01 08:55:13+00:00  152   \n",
       "2   25.2481    29   79.960928      3.79  ... 2022-06-01 08:55:42+00:00  152   \n",
       "3   25.2488    32   48.267785      3.79  ... 2022-06-01 08:56:14+00:00  152   \n",
       "4   25.2491    31  144.043612      3.79  ... 2022-06-01 08:56:45+00:00  152   \n",
       "\n",
       "   year   lon_rad   lat_rad  idx  lat_cluster  lon_cluster  next_lat_cluster  \\\n",
       "0  2022  0.899888  0.440657    0      25.2478      51.5598           -1.0000   \n",
       "1  2022  0.899890  0.440662    1      25.2481      51.5599           25.2478   \n",
       "2  2022  0.899883  0.440675    2      25.2488      51.5595           25.2481   \n",
       "3  2022  0.899880  0.440680    3      25.2491      51.5593           25.2488   \n",
       "4  2022  0.899899  0.440696    4      25.2500      51.5604           25.2491   \n",
       "\n",
       "   next_lon_cluster  \n",
       "0           -1.0000  \n",
       "1           51.5598  \n",
       "2           51.5599  \n",
       "3           51.5595  \n",
       "4           51.5593  \n",
       "\n",
       "[5 rows x 21 columns]"
      ]
     },
     "execution_count": 20,
     "metadata": {},
     "output_type": "execute_result"
    },
    {
     "name": "stdout",
     "output_type": "stream",
     "text": [
      "time: 1.18 s (started: 2022-07-21 08:36:19 +02:00)\n"
     ]
    }
   ],
   "source": [
    "print(df.columns.values)\n",
    "#df_test = df.sample(frac = TEST_SIZE)\n",
    "#df = df.loc[~df.idx.isin(df_test.idx)]\n",
    "df[['lat_cluster','lon_cluster','next_lat_cluster','next_lon_cluster']] = list(zip(df.lat, df.lon, df.next_lat, df.next_lon)) \n",
    "df = df.iloc[0:int(NUM_ROWS_ANALYSIS)]\n",
    "df.head()"
   ]
  },
  {
   "cell_type": "code",
   "execution_count": 25,
   "metadata": {},
   "outputs": [
    {
     "name": "stdout",
     "output_type": "stream",
     "text": [
      "time: 19.1 s (started: 2022-07-21 08:40:34 +02:00)\n"
     ]
    }
   ],
   "source": [
    "df['custom_distance_manhattan'] = df.apply(get_distance, axis = 1, method = ('manhattan'))\n",
    "df['custom_distance_haversine'] = df.apply(get_distance, axis = 1, method = ('haversine'))\n",
    "df['custom_distance_euclidean'] = df.apply(get_distance, axis = 1, method = ('euclidean'))\n",
    "# Error absoluto\n",
    "df['abs_manhattan_error'] = np.abs(df.custom_distance_manhattan - df.dx)\n",
    "df['abs_haversine_error'] = np.abs(df.custom_distance_haversine - df.dx)\n",
    "df['abs_euclidean_error'] = np.abs(df.custom_distance_euclidean - df.dx)\n",
    "# Error real\n",
    "df['manhattan_error'] = df.custom_distance_manhattan - df.dx\n",
    "df['haversine_error'] = df.custom_distance_haversine - df.dx\n",
    "df['euclidean_error'] = df.custom_distance_euclidean - df.dx\n",
    "# Filter\n",
    "df_filtered = df.loc[df.dx <= df.dx.mean()+5*df.dx.std()]"
   ]
  },
  {
   "cell_type": "code",
   "execution_count": 26,
   "metadata": {},
   "outputs": [
    {
     "ename": "ValueError",
     "evalue": "Length of list vectors must match length of `data` when both are used, but `data` has length 391880 and the vector passed to `x` has length 400000.",
     "output_type": "error",
     "traceback": [
      "\u001b[0;31m---------------------------------------------------------------------------\u001b[0m",
      "\u001b[0;31mValueError\u001b[0m                                Traceback (most recent call last)",
      "\u001b[1;32m/Users/temporaryadmin/Documents/GitHub/ml_cheat_sheet/Geographic/distance_analysis.ipynb Cell 7'\u001b[0m in \u001b[0;36m<cell line: 6>\u001b[0;34m()\u001b[0m\n\u001b[1;32m      <a href='vscode-notebook-cell:/Users/temporaryadmin/Documents/GitHub/ml_cheat_sheet/Geographic/distance_analysis.ipynb#ch0000006?line=3'>4</a>\u001b[0m df_plot \u001b[39m=\u001b[39m pd\u001b[39m.\u001b[39mDataFrame(\u001b[39mzip\u001b[39m(lists_methods, lists_results), columns \u001b[39m=\u001b[39m [\u001b[39m'\u001b[39m\u001b[39mmethod\u001b[39m\u001b[39m'\u001b[39m,\u001b[39m'\u001b[39m\u001b[39mdistance\u001b[39m\u001b[39m'\u001b[39m])\n\u001b[1;32m      <a href='vscode-notebook-cell:/Users/temporaryadmin/Documents/GitHub/ml_cheat_sheet/Geographic/distance_analysis.ipynb#ch0000006?line=4'>5</a>\u001b[0m plt\u001b[39m.\u001b[39mfigure(figsize \u001b[39m=\u001b[39m (\u001b[39m20\u001b[39m,\u001b[39m10\u001b[39m))\n\u001b[0;32m----> <a href='vscode-notebook-cell:/Users/temporaryadmin/Documents/GitHub/ml_cheat_sheet/Geographic/distance_analysis.ipynb#ch0000006?line=5'>6</a>\u001b[0m sns\u001b[39m.\u001b[39;49mlineplot(x \u001b[39m=\u001b[39;49m \u001b[39mlist\u001b[39;49m(\u001b[39mrange\u001b[39;49m(df\u001b[39m.\u001b[39;49mshape[\u001b[39m0\u001b[39;49m]))\u001b[39m*\u001b[39;49m\u001b[39m4\u001b[39;49m, y \u001b[39m=\u001b[39;49m \u001b[39m'\u001b[39;49m\u001b[39mdistance\u001b[39;49m\u001b[39m'\u001b[39;49m, data \u001b[39m=\u001b[39;49m df_plot, hue \u001b[39m=\u001b[39;49m \u001b[39m'\u001b[39;49m\u001b[39mmethod\u001b[39;49m\u001b[39m'\u001b[39;49m)\n\u001b[1;32m      <a href='vscode-notebook-cell:/Users/temporaryadmin/Documents/GitHub/ml_cheat_sheet/Geographic/distance_analysis.ipynb#ch0000006?line=6'>7</a>\u001b[0m plt\u001b[39m.\u001b[39mshow()\n\u001b[1;32m      <a href='vscode-notebook-cell:/Users/temporaryadmin/Documents/GitHub/ml_cheat_sheet/Geographic/distance_analysis.ipynb#ch0000006?line=7'>8</a>\u001b[0m plt\u001b[39m.\u001b[39mfigure(figsize \u001b[39m=\u001b[39m (\u001b[39m20\u001b[39m,\u001b[39m10\u001b[39m))\n",
      "File \u001b[0;32m~/opt/anaconda3/envs/tensorflow/lib/python3.8/site-packages/seaborn/_decorators.py:46\u001b[0m, in \u001b[0;36m_deprecate_positional_args.<locals>.inner_f\u001b[0;34m(*args, **kwargs)\u001b[0m\n\u001b[1;32m     36\u001b[0m     warnings\u001b[39m.\u001b[39mwarn(\n\u001b[1;32m     37\u001b[0m         \u001b[39m\"\u001b[39m\u001b[39mPass the following variable\u001b[39m\u001b[39m{}\u001b[39;00m\u001b[39m as \u001b[39m\u001b[39m{}\u001b[39;00m\u001b[39mkeyword arg\u001b[39m\u001b[39m{}\u001b[39;00m\u001b[39m: \u001b[39m\u001b[39m{}\u001b[39;00m\u001b[39m. \u001b[39m\u001b[39m\"\u001b[39m\n\u001b[1;32m     38\u001b[0m         \u001b[39m\"\u001b[39m\u001b[39mFrom version 0.12, the only valid positional argument \u001b[39m\u001b[39m\"\u001b[39m\n\u001b[0;32m   (...)\u001b[0m\n\u001b[1;32m     43\u001b[0m         \u001b[39mFutureWarning\u001b[39;00m\n\u001b[1;32m     44\u001b[0m     )\n\u001b[1;32m     45\u001b[0m kwargs\u001b[39m.\u001b[39mupdate({k: arg \u001b[39mfor\u001b[39;00m k, arg \u001b[39min\u001b[39;00m \u001b[39mzip\u001b[39m(sig\u001b[39m.\u001b[39mparameters, args)})\n\u001b[0;32m---> 46\u001b[0m \u001b[39mreturn\u001b[39;00m f(\u001b[39m*\u001b[39;49m\u001b[39m*\u001b[39;49mkwargs)\n",
      "File \u001b[0;32m~/opt/anaconda3/envs/tensorflow/lib/python3.8/site-packages/seaborn/relational.py:692\u001b[0m, in \u001b[0;36mlineplot\u001b[0;34m(x, y, hue, size, style, data, palette, hue_order, hue_norm, sizes, size_order, size_norm, dashes, markers, style_order, units, estimator, ci, n_boot, seed, sort, err_style, err_kws, legend, ax, **kwargs)\u001b[0m\n\u001b[1;32m    677\u001b[0m \u001b[39m@_deprecate_positional_args\u001b[39m\n\u001b[1;32m    678\u001b[0m \u001b[39mdef\u001b[39;00m \u001b[39mlineplot\u001b[39m(\n\u001b[1;32m    679\u001b[0m     \u001b[39m*\u001b[39m,\n\u001b[0;32m   (...)\u001b[0m\n\u001b[1;32m    688\u001b[0m     legend\u001b[39m=\u001b[39m\u001b[39m\"\u001b[39m\u001b[39mauto\u001b[39m\u001b[39m\"\u001b[39m, ax\u001b[39m=\u001b[39m\u001b[39mNone\u001b[39;00m, \u001b[39m*\u001b[39m\u001b[39m*\u001b[39mkwargs\n\u001b[1;32m    689\u001b[0m ):\n\u001b[1;32m    691\u001b[0m     variables \u001b[39m=\u001b[39m _LinePlotter\u001b[39m.\u001b[39mget_semantics(\u001b[39mlocals\u001b[39m())\n\u001b[0;32m--> 692\u001b[0m     p \u001b[39m=\u001b[39m _LinePlotter(\n\u001b[1;32m    693\u001b[0m         data\u001b[39m=\u001b[39;49mdata, variables\u001b[39m=\u001b[39;49mvariables,\n\u001b[1;32m    694\u001b[0m         estimator\u001b[39m=\u001b[39;49mestimator, ci\u001b[39m=\u001b[39;49mci, n_boot\u001b[39m=\u001b[39;49mn_boot, seed\u001b[39m=\u001b[39;49mseed,\n\u001b[1;32m    695\u001b[0m         sort\u001b[39m=\u001b[39;49msort, err_style\u001b[39m=\u001b[39;49merr_style, err_kws\u001b[39m=\u001b[39;49merr_kws, legend\u001b[39m=\u001b[39;49mlegend,\n\u001b[1;32m    696\u001b[0m     )\n\u001b[1;32m    698\u001b[0m     p\u001b[39m.\u001b[39mmap_hue(palette\u001b[39m=\u001b[39mpalette, order\u001b[39m=\u001b[39mhue_order, norm\u001b[39m=\u001b[39mhue_norm)\n\u001b[1;32m    699\u001b[0m     p\u001b[39m.\u001b[39mmap_size(sizes\u001b[39m=\u001b[39msizes, order\u001b[39m=\u001b[39msize_order, norm\u001b[39m=\u001b[39msize_norm)\n",
      "File \u001b[0;32m~/opt/anaconda3/envs/tensorflow/lib/python3.8/site-packages/seaborn/relational.py:367\u001b[0m, in \u001b[0;36m_LinePlotter.__init__\u001b[0;34m(self, data, variables, estimator, ci, n_boot, seed, sort, err_style, err_kws, legend)\u001b[0m\n\u001b[1;32m    353\u001b[0m \u001b[39mdef\u001b[39;00m \u001b[39m__init__\u001b[39m(\n\u001b[1;32m    354\u001b[0m     \u001b[39mself\u001b[39m, \u001b[39m*\u001b[39m,\n\u001b[1;32m    355\u001b[0m     data\u001b[39m=\u001b[39m\u001b[39mNone\u001b[39;00m, variables\u001b[39m=\u001b[39m{},\n\u001b[0;32m   (...)\u001b[0m\n\u001b[1;32m    361\u001b[0m     \u001b[39m# the kind of plot to draw, but for the time being we need to set\u001b[39;00m\n\u001b[1;32m    362\u001b[0m     \u001b[39m# this information so the SizeMapping can use it\u001b[39;00m\n\u001b[1;32m    363\u001b[0m     \u001b[39mself\u001b[39m\u001b[39m.\u001b[39m_default_size_range \u001b[39m=\u001b[39m (\n\u001b[1;32m    364\u001b[0m         np\u001b[39m.\u001b[39mr_[\u001b[39m.5\u001b[39m, \u001b[39m2\u001b[39m] \u001b[39m*\u001b[39m mpl\u001b[39m.\u001b[39mrcParams[\u001b[39m\"\u001b[39m\u001b[39mlines.linewidth\u001b[39m\u001b[39m\"\u001b[39m]\n\u001b[1;32m    365\u001b[0m     )\n\u001b[0;32m--> 367\u001b[0m     \u001b[39msuper\u001b[39;49m()\u001b[39m.\u001b[39;49m\u001b[39m__init__\u001b[39;49m(data\u001b[39m=\u001b[39;49mdata, variables\u001b[39m=\u001b[39;49mvariables)\n\u001b[1;32m    369\u001b[0m     \u001b[39mself\u001b[39m\u001b[39m.\u001b[39mestimator \u001b[39m=\u001b[39m estimator\n\u001b[1;32m    370\u001b[0m     \u001b[39mself\u001b[39m\u001b[39m.\u001b[39mci \u001b[39m=\u001b[39m ci\n",
      "File \u001b[0;32m~/opt/anaconda3/envs/tensorflow/lib/python3.8/site-packages/seaborn/_core.py:605\u001b[0m, in \u001b[0;36mVectorPlotter.__init__\u001b[0;34m(self, data, variables)\u001b[0m\n\u001b[1;32m    603\u001b[0m \u001b[39mdef\u001b[39;00m \u001b[39m__init__\u001b[39m(\u001b[39mself\u001b[39m, data\u001b[39m=\u001b[39m\u001b[39mNone\u001b[39;00m, variables\u001b[39m=\u001b[39m{}):\n\u001b[0;32m--> 605\u001b[0m     \u001b[39mself\u001b[39;49m\u001b[39m.\u001b[39;49massign_variables(data, variables)\n\u001b[1;32m    607\u001b[0m     \u001b[39mfor\u001b[39;00m var, \u001b[39mcls\u001b[39m \u001b[39min\u001b[39;00m \u001b[39mself\u001b[39m\u001b[39m.\u001b[39m_semantic_mappings\u001b[39m.\u001b[39mitems():\n\u001b[1;32m    608\u001b[0m \n\u001b[1;32m    609\u001b[0m         \u001b[39m# Create the mapping function\u001b[39;00m\n\u001b[1;32m    610\u001b[0m         map_func \u001b[39m=\u001b[39m partial(\u001b[39mcls\u001b[39m\u001b[39m.\u001b[39mmap, plotter\u001b[39m=\u001b[39m\u001b[39mself\u001b[39m)\n",
      "File \u001b[0;32m~/opt/anaconda3/envs/tensorflow/lib/python3.8/site-packages/seaborn/_core.py:668\u001b[0m, in \u001b[0;36mVectorPlotter.assign_variables\u001b[0;34m(self, data, variables)\u001b[0m\n\u001b[1;32m    666\u001b[0m \u001b[39melse\u001b[39;00m:\n\u001b[1;32m    667\u001b[0m     \u001b[39mself\u001b[39m\u001b[39m.\u001b[39minput_format \u001b[39m=\u001b[39m \u001b[39m\"\u001b[39m\u001b[39mlong\u001b[39m\u001b[39m\"\u001b[39m\n\u001b[0;32m--> 668\u001b[0m     plot_data, variables \u001b[39m=\u001b[39m \u001b[39mself\u001b[39;49m\u001b[39m.\u001b[39;49m_assign_variables_longform(\n\u001b[1;32m    669\u001b[0m         data, \u001b[39m*\u001b[39;49m\u001b[39m*\u001b[39;49mvariables,\n\u001b[1;32m    670\u001b[0m     )\n\u001b[1;32m    672\u001b[0m \u001b[39mself\u001b[39m\u001b[39m.\u001b[39mplot_data \u001b[39m=\u001b[39m plot_data\n\u001b[1;32m    673\u001b[0m \u001b[39mself\u001b[39m\u001b[39m.\u001b[39mvariables \u001b[39m=\u001b[39m variables\n",
      "File \u001b[0;32m~/opt/anaconda3/envs/tensorflow/lib/python3.8/site-packages/seaborn/_core.py:918\u001b[0m, in \u001b[0;36mVectorPlotter._assign_variables_longform\u001b[0;34m(self, data, **kwargs)\u001b[0m\n\u001b[1;32m    912\u001b[0m         val_cls \u001b[39m=\u001b[39m val\u001b[39m.\u001b[39m\u001b[39m__class__\u001b[39m\u001b[39m.\u001b[39m\u001b[39m__name__\u001b[39m\n\u001b[1;32m    913\u001b[0m         err \u001b[39m=\u001b[39m (\n\u001b[1;32m    914\u001b[0m             \u001b[39mf\u001b[39m\u001b[39m\"\u001b[39m\u001b[39mLength of \u001b[39m\u001b[39m{\u001b[39;00mval_cls\u001b[39m}\u001b[39;00m\u001b[39m vectors must match length of `data`\u001b[39m\u001b[39m\"\u001b[39m\n\u001b[1;32m    915\u001b[0m             \u001b[39mf\u001b[39m\u001b[39m\"\u001b[39m\u001b[39m when both are used, but `data` has length \u001b[39m\u001b[39m{\u001b[39;00m\u001b[39mlen\u001b[39m(data)\u001b[39m}\u001b[39;00m\u001b[39m\"\u001b[39m\n\u001b[1;32m    916\u001b[0m             \u001b[39mf\u001b[39m\u001b[39m\"\u001b[39m\u001b[39m and the vector passed to `\u001b[39m\u001b[39m{\u001b[39;00mkey\u001b[39m}\u001b[39;00m\u001b[39m` has length \u001b[39m\u001b[39m{\u001b[39;00m\u001b[39mlen\u001b[39m(val)\u001b[39m}\u001b[39;00m\u001b[39m.\u001b[39m\u001b[39m\"\u001b[39m\n\u001b[1;32m    917\u001b[0m         )\n\u001b[0;32m--> 918\u001b[0m         \u001b[39mraise\u001b[39;00m \u001b[39mValueError\u001b[39;00m(err)\n\u001b[1;32m    920\u001b[0m plot_data[key] \u001b[39m=\u001b[39m val\n\u001b[1;32m    922\u001b[0m \u001b[39m# Try to infer the name of the variable\u001b[39;00m\n",
      "\u001b[0;31mValueError\u001b[0m: Length of list vectors must match length of `data` when both are used, but `data` has length 391880 and the vector passed to `x` has length 400000."
     ]
    },
    {
     "data": {
      "text/plain": [
       "<Figure size 1440x720 with 0 Axes>"
      ]
     },
     "metadata": {},
     "output_type": "display_data"
    },
    {
     "name": "stdout",
     "output_type": "stream",
     "text": [
      "time: 741 ms (started: 2022-07-21 08:42:54 +02:00)\n"
     ]
    }
   ],
   "source": [
    "lists_methods = np.array(['sql','manhattan','haversine','euclidean'])\n",
    "lists_methods = np.repeat(lists_methods, [df_filtered.shape[0], df_filtered.shape[0], df_filtered.shape[0], df_filtered.shape[0]], axis = 0)\n",
    "lists_results = list(df_filtered.dx)+list(df_filtered.custom_distance_manhattan)+ list(df_filtered.custom_distance_haversine)+list(df_filtered.custom_distance_euclidean)\n",
    "df_plot = pd.DataFrame(zip(lists_methods, lists_results), columns = ['method','distance'])\n",
    "plt.figure(figsize = (20,10))\n",
    "sns.lineplot(x = list(range(df_filtered.shape[0]))*4, y = 'distance', data = df_plot, hue = 'method')\n",
    "plt.show()\n",
    "plt.figure(figsize = (20,10))\n",
    "sns.boxplot(x = 'method', y = 'distance', data = df_plot)"
   ]
  },
  {
   "cell_type": "code",
   "execution_count": 34,
   "metadata": {},
   "outputs": [
    {
     "data": {
      "text/plain": [
       "<AxesSubplot:xlabel='method', ylabel='error'>"
      ]
     },
     "execution_count": 34,
     "metadata": {},
     "output_type": "execute_result"
    },
    {
     "data": {
      "image/png": "[encoded data removed]",
      "text/plain": [
       "<Figure size 1440x720 with 1 Axes>"
      ]
     },
     "metadata": {
      "needs_background": "light"
     },
     "output_type": "display_data"
    },
    {
     "name": "stdout",
     "output_type": "stream",
     "text": [
      "time: 358 ms (started: 2022-07-19 09:14:53 +02:00)\n"
     ]
    }
   ],
   "source": [
    "lists_methods = np.array(['manhattan','haversine','euclidean'])\n",
    "lists_methods = np.repeat(lists_methods,[df_filtered.shape[0], df_filtered.shape[0], df_filtered.shape[0]], axis = 0)\n",
    "lists_results = list(df_filtered.dx)+list(df_filtered.abs_manhattan_error)+ list(df_filtered.abs_haversine_error)+list(df_filtered.abs_euclidean_error)\n",
    "df_plot = pd.DataFrame(zip(lists_methods, lists_results), columns = ['method','error'])\n",
    "plt.figure(figsize = (20,10))\n",
    "sns.boxplot(x = 'method', y = 'error', data = df_plot)"
   ]
  },
  {
   "cell_type": "markdown",
   "metadata": {},
   "source": [
    "* Times dispersion"
   ]
  },
  {
   "cell_type": "code",
   "execution_count": null,
   "metadata": {},
   "outputs": [],
   "source": []
  }
 ],
 "metadata": {
  "kernelspec": {
   "display_name": "Python 3.8.13 ('tensorflow')",
   "language": "python",
   "name": "python3"
  },
  "language_info": {
   "codemirror_mode": {
    "name": "ipython",
    "version": 3
   },
   "file_extension": ".py",
   "mimetype": "text/x-python",
   "name": "python",
   "nbconvert_exporter": "python",
   "pygments_lexer": "ipython3",
   "version": "3.8.13"
  },
  "orig_nbformat": 4,
  "vscode": {
   "interpreter": {
    "hash": "84615b97603bf3c9ed3634f525503893e420bc493fa0fdd24b13b9a58cb45735"
   }
  }
 },
 "nbformat": 4,
 "nbformat_minor": 2
}
