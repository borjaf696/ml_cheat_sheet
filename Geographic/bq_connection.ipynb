{
 "cells": [
  {
   "cell_type": "code",
   "execution_count": 5,
   "metadata": {},
   "outputs": [
    {
     "ename": "ValueError",
     "evalue": "Service account info was not in the expected format, missing fields client_email, token_uri.",
     "output_type": "error",
     "traceback": [
      "\u001b[0;31m---------------------------------------------------------------------------\u001b[0m",
      "\u001b[0;31mValueError\u001b[0m                                Traceback (most recent call last)",
      "\u001b[1;32m/Users/temporaryadmin/Documents/GitHub/ml_cheat_sheet/Geographic/bq_connection.ipynb Cell 1'\u001b[0m in \u001b[0;36m<cell line: 11>\u001b[0;34m()\u001b[0m\n\u001b[1;32m      <a href='vscode-notebook-cell:/Users/temporaryadmin/Documents/GitHub/ml_cheat_sheet/Geographic/bq_connection.ipynb#ch0000000?line=8'>9</a>\u001b[0m \u001b[39melse\u001b[39;00m:\n\u001b[1;32m     <a href='vscode-notebook-cell:/Users/temporaryadmin/Documents/GitHub/ml_cheat_sheet/Geographic/bq_connection.ipynb#ch0000000?line=9'>10</a>\u001b[0m     json_path \u001b[39m=\u001b[39m os\u001b[39m.\u001b[39menviron[credentials_json]\n\u001b[0;32m---> <a href='vscode-notebook-cell:/Users/temporaryadmin/Documents/GitHub/ml_cheat_sheet/Geographic/bq_connection.ipynb#ch0000000?line=10'>11</a>\u001b[0m credentials \u001b[39m=\u001b[39m service_account\u001b[39m.\u001b[39;49mCredentials\u001b[39m.\u001b[39;49mfrom_service_account_file(json_path)\n\u001b[1;32m     <a href='vscode-notebook-cell:/Users/temporaryadmin/Documents/GitHub/ml_cheat_sheet/Geographic/bq_connection.ipynb#ch0000000?line=12'>13</a>\u001b[0m client \u001b[39m=\u001b[39m bigquery\u001b[39m.\u001b[39mClient(credentials\u001b[39m=\u001b[39mcredentials, project\u001b[39m=\u001b[39mcredentials\u001b[39m.\u001b[39mproject_id)\n",
      "File \u001b[0;32m~/opt/anaconda3/envs/tensorflow/lib/python3.8/site-packages/google/oauth2/service_account.py:238\u001b[0m, in \u001b[0;36mCredentials.from_service_account_file\u001b[0;34m(cls, filename, **kwargs)\u001b[0m\n\u001b[1;32m    226\u001b[0m \u001b[39m@classmethod\u001b[39m\n\u001b[1;32m    227\u001b[0m \u001b[39mdef\u001b[39;00m \u001b[39mfrom_service_account_file\u001b[39m(\u001b[39mcls\u001b[39m, filename, \u001b[39m*\u001b[39m\u001b[39m*\u001b[39mkwargs):\n\u001b[1;32m    228\u001b[0m     \u001b[39m\"\"\"Creates a Credentials instance from a service account json file.\u001b[39;00m\n\u001b[1;32m    229\u001b[0m \n\u001b[1;32m    230\u001b[0m \u001b[39m    Args:\u001b[39;00m\n\u001b[0;32m   (...)\u001b[0m\n\u001b[1;32m    236\u001b[0m \u001b[39m            credentials.\u001b[39;00m\n\u001b[1;32m    237\u001b[0m \u001b[39m    \"\"\"\u001b[39;00m\n\u001b[0;32m--> 238\u001b[0m     info, signer \u001b[39m=\u001b[39m _service_account_info\u001b[39m.\u001b[39;49mfrom_filename(\n\u001b[1;32m    239\u001b[0m         filename, require\u001b[39m=\u001b[39;49m[\u001b[39m\"\u001b[39;49m\u001b[39mclient_email\u001b[39;49m\u001b[39m\"\u001b[39;49m, \u001b[39m\"\u001b[39;49m\u001b[39mtoken_uri\u001b[39;49m\u001b[39m\"\u001b[39;49m]\n\u001b[1;32m    240\u001b[0m     )\n\u001b[1;32m    241\u001b[0m     \u001b[39mreturn\u001b[39;00m \u001b[39mcls\u001b[39m\u001b[39m.\u001b[39m_from_signer_and_info(signer, info, \u001b[39m*\u001b[39m\u001b[39m*\u001b[39mkwargs)\n",
      "File \u001b[0;32m~/opt/anaconda3/envs/tensorflow/lib/python3.8/site-packages/google/auth/_service_account_info.py:81\u001b[0m, in \u001b[0;36mfrom_filename\u001b[0;34m(filename, require, use_rsa_signer)\u001b[0m\n\u001b[1;32m     79\u001b[0m \u001b[39mwith\u001b[39;00m io\u001b[39m.\u001b[39mopen(filename, \u001b[39m\"\u001b[39m\u001b[39mr\u001b[39m\u001b[39m\"\u001b[39m, encoding\u001b[39m=\u001b[39m\u001b[39m\"\u001b[39m\u001b[39mutf-8\u001b[39m\u001b[39m\"\u001b[39m) \u001b[39mas\u001b[39;00m json_file:\n\u001b[1;32m     80\u001b[0m     data \u001b[39m=\u001b[39m json\u001b[39m.\u001b[39mload(json_file)\n\u001b[0;32m---> 81\u001b[0m     \u001b[39mreturn\u001b[39;00m data, from_dict(data, require\u001b[39m=\u001b[39;49mrequire, use_rsa_signer\u001b[39m=\u001b[39;49muse_rsa_signer)\n",
      "File \u001b[0;32m~/opt/anaconda3/envs/tensorflow/lib/python3.8/site-packages/google/auth/_service_account_info.py:51\u001b[0m, in \u001b[0;36mfrom_dict\u001b[0;34m(data, require, use_rsa_signer)\u001b[0m\n\u001b[1;32m     48\u001b[0m missing \u001b[39m=\u001b[39m keys_needed\u001b[39m.\u001b[39mdifference(six\u001b[39m.\u001b[39miterkeys(data))\n\u001b[1;32m     50\u001b[0m \u001b[39mif\u001b[39;00m missing:\n\u001b[0;32m---> 51\u001b[0m     \u001b[39mraise\u001b[39;00m \u001b[39mValueError\u001b[39;00m(\n\u001b[1;32m     52\u001b[0m         \u001b[39m\"\u001b[39m\u001b[39mService account info was not in the expected format, missing \u001b[39m\u001b[39m\"\u001b[39m\n\u001b[1;32m     53\u001b[0m         \u001b[39m\"\u001b[39m\u001b[39mfields \u001b[39m\u001b[39m{}\u001b[39;00m\u001b[39m.\u001b[39m\u001b[39m\"\u001b[39m\u001b[39m.\u001b[39mformat(\u001b[39m\"\u001b[39m\u001b[39m, \u001b[39m\u001b[39m\"\u001b[39m\u001b[39m.\u001b[39mjoin(missing))\n\u001b[1;32m     54\u001b[0m     )\n\u001b[1;32m     56\u001b[0m \u001b[39m# Create a signer.\u001b[39;00m\n\u001b[1;32m     57\u001b[0m \u001b[39mif\u001b[39;00m use_rsa_signer:\n",
      "\u001b[0;31mValueError\u001b[0m: Service account info was not in the expected format, missing fields client_email, token_uri."
     ]
    }
   ],
   "source": [
    "import warnings\n",
    "warnings.filterwarnings(\"ignore\")\n",
    "from google.cloud import bigquery\n",
    "from google.oauth2 import service_account\n",
    "import os, sys\n",
    "credentials_json = 'GOOGLE_APPLICATION_CREDENTIALS'\n",
    "if credentials_json not in os.environ.keys():\n",
    "    json_path = \"/Users/temporaryadmin/.config/gcloud/legacy_credentials/borja.freire@deliveryhero.com/adc.json\"\n",
    "else:\n",
    "    json_path = os.environ[credentials_json]\n",
    "credentials = service_account.Credentials.from_service_account_file(json_path,scopes=[\"https://www.googleapis.com/auth/cloud-platform\"])\n",
    "\n",
    "client = bigquery.Client(credentials=credentials, project=credentials.project_id)"
   ]
  },
  {
   "cell_type": "code",
   "execution_count": null,
   "metadata": {},
   "outputs": [],
   "source": []
  }
 ],
 "metadata": {
  "kernelspec": {
   "display_name": "Python 3.8.13 ('tensorflow')",
   "language": "python",
   "name": "python3"
  },
  "language_info": {
   "codemirror_mode": {
    "name": "ipython",
    "version": 3
   },
   "file_extension": ".py",
   "mimetype": "text/x-python",
   "name": "python",
   "nbconvert_exporter": "python",
   "pygments_lexer": "ipython3",
   "version": "3.8.13"
  },
  "orig_nbformat": 4,
  "vscode": {
   "interpreter": {
    "hash": "84615b97603bf3c9ed3634f525503893e420bc493fa0fdd24b13b9a58cb45735"
   }
  }
 },
 "nbformat": 4,
 "nbformat_minor": 2
}
