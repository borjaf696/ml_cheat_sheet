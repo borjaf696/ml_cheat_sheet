{
 "cells": [
  {
   "cell_type": "code",
   "execution_count": 1,
   "metadata": {},
   "outputs": [],
   "source": [
    "def read_query(f):\n",
    "    query = ''\n",
    "    with open(f,'r+') as file_query:\n",
    "        lines = file_query.readlines()\n",
    "        for line in lines:\n",
    "            query += line.strip()+' '\n",
    "    return query"
   ]
  },
  {
   "cell_type": "code",
   "execution_count": 4,
   "metadata": {},
   "outputs": [
    {
     "name": "stdout",
     "output_type": "stream",
     "text": [
      "(1000000, 6)\n"
     ]
    },
    {
     "data": {
      "text/html": [
       "<div>\n",
       "<style scoped>\n",
       "    .dataframe tbody tr th:only-of-type {\n",
       "        vertical-align: middle;\n",
       "    }\n",
       "\n",
       "    .dataframe tbody tr th {\n",
       "        vertical-align: top;\n",
       "    }\n",
       "\n",
       "    .dataframe thead th {\n",
       "        text-align: right;\n",
       "    }\n",
       "</style>\n",
       "<table border=\"1\" class=\"dataframe\">\n",
       "  <thead>\n",
       "    <tr style=\"text-align: right;\">\n",
       "      <th></th>\n",
       "      <th>rider_id</th>\n",
       "      <th>order_id</th>\n",
       "      <th>created_at</th>\n",
       "      <th>lat</th>\n",
       "      <th>lon</th>\n",
       "      <th>accuracy</th>\n",
       "    </tr>\n",
       "  </thead>\n",
       "  <tbody>\n",
       "    <tr>\n",
       "      <th>0</th>\n",
       "      <td>44970</td>\n",
       "      <td>45225552</td>\n",
       "      <td>2022-06-01 08:54:54+00:00</td>\n",
       "      <td>25.247760</td>\n",
       "      <td>51.559806</td>\n",
       "      <td>3.79</td>\n",
       "    </tr>\n",
       "    <tr>\n",
       "      <th>1</th>\n",
       "      <td>44970</td>\n",
       "      <td>45225552</td>\n",
       "      <td>2022-06-01 08:55:13+00:00</td>\n",
       "      <td>25.248148</td>\n",
       "      <td>51.559912</td>\n",
       "      <td>3.79</td>\n",
       "    </tr>\n",
       "    <tr>\n",
       "      <th>2</th>\n",
       "      <td>44970</td>\n",
       "      <td>45225552</td>\n",
       "      <td>2022-06-01 08:55:42+00:00</td>\n",
       "      <td>25.248775</td>\n",
       "      <td>51.559522</td>\n",
       "      <td>3.79</td>\n",
       "    </tr>\n",
       "    <tr>\n",
       "      <th>3</th>\n",
       "      <td>44970</td>\n",
       "      <td>45225552</td>\n",
       "      <td>2022-06-01 08:56:14+00:00</td>\n",
       "      <td>25.249147</td>\n",
       "      <td>51.559274</td>\n",
       "      <td>3.79</td>\n",
       "    </tr>\n",
       "    <tr>\n",
       "      <th>4</th>\n",
       "      <td>44970</td>\n",
       "      <td>45225552</td>\n",
       "      <td>2022-06-01 08:56:45+00:00</td>\n",
       "      <td>25.249972</td>\n",
       "      <td>51.560379</td>\n",
       "      <td>3.79</td>\n",
       "    </tr>\n",
       "  </tbody>\n",
       "</table>\n",
       "</div>"
      ],
      "text/plain": [
       "   rider_id  order_id                created_at        lat        lon  \\\n",
       "0     44970  45225552 2022-06-01 08:54:54+00:00  25.247760  51.559806   \n",
       "1     44970  45225552 2022-06-01 08:55:13+00:00  25.248148  51.559912   \n",
       "2     44970  45225552 2022-06-01 08:55:42+00:00  25.248775  51.559522   \n",
       "3     44970  45225552 2022-06-01 08:56:14+00:00  25.249147  51.559274   \n",
       "4     44970  45225552 2022-06-01 08:56:45+00:00  25.249972  51.560379   \n",
       "\n",
       "   accuracy  \n",
       "0      3.79  \n",
       "1      3.79  \n",
       "2      3.79  \n",
       "3      3.79  \n",
       "4      3.79  "
      ]
     },
     "execution_count": 4,
     "metadata": {},
     "output_type": "execute_result"
    }
   ],
   "source": [
    "import warnings\n",
    "warnings.filterwarnings(\"ignore\")\n",
    "from google.cloud import bigquery\n",
    "import os, sys\n",
    "os.environ['GOOGLE_APPLICATION_CREDENTIALS'] = \"/Users/temporaryadmin/.config/gcloud/legacy_credentials/borja.freire@deliveryhero.com/adc.json\"\n",
    "os.environ['GOOGLE_CLOUD_PROJECT'] = \"logistics-data-staging-flat\"\n",
    "bq_client = bigquery.Client()\n",
    "#client = bigquery.Client(credentials=credentials, project=credentials.project_id)\n",
    "query = read_query('big_query_queries/points_rides.sql')\n",
    "df_bq = bq_client.query(query).result().to_dataframe()\n",
    "print(df_bq.shape)\n",
    "df_bq.head()"
   ]
  },
  {
   "cell_type": "code",
   "execution_count": null,
   "metadata": {},
   "outputs": [],
   "source": []
  }
 ],
 "metadata": {
  "kernelspec": {
   "display_name": "Python 3.8.13 ('tensorflow')",
   "language": "python",
   "name": "python3"
  },
  "language_info": {
   "codemirror_mode": {
    "name": "ipython",
    "version": 3
   },
   "file_extension": ".py",
   "mimetype": "text/x-python",
   "name": "python",
   "nbconvert_exporter": "python",
   "pygments_lexer": "ipython3",
   "version": "3.8.13"
  },
  "orig_nbformat": 4,
  "vscode": {
   "interpreter": {
    "hash": "84615b97603bf3c9ed3634f525503893e420bc493fa0fdd24b13b9a58cb45735"
   }
  }
 },
 "nbformat": 4,
 "nbformat_minor": 2
}
