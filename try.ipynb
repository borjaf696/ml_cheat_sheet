{
 "cells": [
  {
   "cell_type": "markdown",
   "metadata": {},
   "source": [
    "## Merge two sorted lists"
   ]
  },
  {
   "cell_type": "code",
   "execution_count": 1,
   "metadata": {},
   "outputs": [
    {
     "data": {
      "text/plain": [
       "[1, 2, 3, 4, 4, 5, 5, 6, 7, 8]"
      ]
     },
     "execution_count": 1,
     "metadata": {},
     "output_type": "execute_result"
    }
   ],
   "source": [
    "import numpy as np\n",
    "class SortedList(object):\n",
    "    def __init__(self, l):\n",
    "        self.sorted_ints = l\n",
    "    def merge(self, other):\n",
    "        i, j = 0, 0\n",
    "        l = []\n",
    "        while i < len(self.sorted_ints) and j < len(other):\n",
    "            if self.sorted_ints[i] < other[j]:\n",
    "                l.append(self.sorted_ints[i])\n",
    "                i += 1\n",
    "            else:\n",
    "                l.append(other[j])\n",
    "                j += 1\n",
    "        if i < len(self.sorted_ints):\n",
    "            l += self.sorted_ints[i:]\n",
    "        else:\n",
    "            l += other[j:]\n",
    "        return l\n",
    "# O(n)        \n",
    "l1 = [1,2,3,4,5]\n",
    "l2 = [4,5,6,7,8]\n",
    "\n",
    "l_sorted = SortedList(l1)\n",
    "l_sorted.merge(l2)\n",
    "\n",
    "       "
   ]
  }
 ],
 "metadata": {
  "kernelspec": {
   "display_name": "Python 3.8.13 ('tensorflow')",
   "language": "python",
   "name": "python3"
  },
  "language_info": {
   "codemirror_mode": {
    "name": "ipython",
    "version": 3
   },
   "file_extension": ".py",
   "mimetype": "text/x-python",
   "name": "python",
   "nbconvert_exporter": "python",
   "pygments_lexer": "ipython3",
   "version": "3.8.13"
  },
  "orig_nbformat": 4,
  "vscode": {
   "interpreter": {
    "hash": "84615b97603bf3c9ed3634f525503893e420bc493fa0fdd24b13b9a58cb45735"
   }
  }
 },
 "nbformat": 4,
 "nbformat_minor": 2
}
