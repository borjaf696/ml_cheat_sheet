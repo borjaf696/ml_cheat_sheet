{
 "cells": [
  {
   "cell_type": "markdown",
   "metadata": {},
   "source": [
    "## MLOps\n",
    "\n",
    "Set of extension from traditional DevOps which aim to include or add machine learning and data science operations as part of the DevOps environment (Set of tasks or procedures whihc involve Development (Dev) and operations (IT). The final objective is to speed up the software life cycle and to add quality to all software stages). It is applied in three different parts:\n",
    "* Data - gather, cleaning, loading, and so on\n",
    "* Model - testing, evaluation, how to deploy and so on.\n",
    "* Code - quality coding approaches.\n",
    "\n",
    "#### Why apply MLOps?\n",
    "* Data needs to be checked - now data is one of the most valuable products, multiple business problems are solved by authomatically getting insights from data. Quality control of the data is a must right now.\n",
    "* Models are going to be deprecated by the time passes. Since new informations gets into the system, plus some data loses relevance, the model is going to perform worse and worse.\n",
    "\n",
    "#### MLOps pilars\n",
    "* Automathization - CI/CD pipelines (continum integration and continum distribution, set of practices to control of systema quality and the continum authomatization). A clear example are the github production rules, where one can establish some rules which are going to assay the quality of the new uploads.\n",
    "* Versioning - versions of the data, models and code.\n",
    "* Testing\n",
    "* Monitorizing - it is important to manage the different aspects of the model: quality, oldness, the results are worse with the time,...\n",
    "* Reproducibility - it is required that everything has a trace and can be reproducible.\n",
    "* Tools - mlflow, apache airflow, Tensorflow extended, kuberflow, etc."
   ]
  },
  {
   "cell_type": "markdown",
   "metadata": {},
   "source": [
    "### Mlflow"
   ]
  },
  {
   "cell_type": "code",
   "execution_count": null,
   "metadata": {},
   "outputs": [],
   "source": []
  }
 ],
 "metadata": {
  "kernelspec": {
   "display_name": "Python 3",
   "language": "python",
   "name": "python3"
  },
  "language_info": {
   "codemirror_mode": {
    "name": "ipython",
    "version": 3
   },
   "file_extension": ".py",
   "mimetype": "text/x-python",
   "name": "python",
   "nbconvert_exporter": "python",
   "pygments_lexer": "ipython3",
   "version": "3.6.10"
  }
 },
 "nbformat": 4,
 "nbformat_minor": 5
}
