{
 "cells": [
  {
   "cell_type": "markdown",
   "metadata": {},
   "source": [
    "## Ensembled methods\n",
    "\n",
    "This notebooks gives an explanation about the most classic ensembled methods. It answers the questions of: What are ensembled methods? Which different ensembled methods exists? How the differ? An core algorithms for each category. Furthermore, it implements all the methods in python."
   ]
  },
  {
   "cell_type": "markdown",
   "metadata": {},
   "source": []
  },
  {
   "cell_type": "markdown",
   "metadata": {},
   "source": []
  }
 ],
 "metadata": {
  "language_info": {
   "name": "python"
  },
  "orig_nbformat": 4
 },
 "nbformat": 4,
 "nbformat_minor": 2
}
