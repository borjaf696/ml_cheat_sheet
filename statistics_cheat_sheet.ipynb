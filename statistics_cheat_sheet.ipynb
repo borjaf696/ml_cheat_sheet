{
 "cells": [
  {
   "cell_type": "markdown",
   "id": "e7c95f50",
   "metadata": {},
   "source": [
    "# Cheat sheet de estadística para ciencia de datos"
   ]
  },
  {
   "cell_type": "code",
   "execution_count": 18,
   "id": "a8dfdd73",
   "metadata": {},
   "outputs": [],
   "source": [
    "import numpy as np\n",
    "\n",
    "def simulations(distribution, mu = None, std = None, size = 1000):\n",
    "    if distribution == 'normal':\n",
    "        return np.random.normal(loc = mu, scale= std, size = size)    "
   ]
  },
  {
   "cell_type": "markdown",
   "id": "737fd2fe",
   "metadata": {},
   "source": [
    "## Probabilidad \n",
    "\n",
    "### Teorema de Bayes\n",
    "\n",
    "#### Probabilidad condicional\n",
    "\n",
    "##### Ejemplos típicos\n",
    "\n",
    "## Distribuciones típicas\n",
    "\n",
    "### Discretas\n",
    "\n",
    "### Continuas\n"
   ]
  },
  {
   "cell_type": "markdown",
   "id": "4a7d2470",
   "metadata": {},
   "source": []
  },
  {
   "cell_type": "markdown",
   "id": "383753e8",
   "metadata": {},
   "source": [
    "## Análisis de significancia\n",
    "\n",
    "#### ANOVA:\n",
    "\n",
    "##### ANOVA: Efectos fijos\n",
    "\n",
    "##### ANOVA: Efectos aleatorios\n",
    "\n",
    "#### Análisis de la covarianza (ANCOVA):\n"
   ]
  },
  {
   "cell_type": "code",
   "execution_count": null,
   "id": "e5f8c6d0",
   "metadata": {},
   "outputs": [],
   "source": []
  },
  {
   "cell_type": "markdown",
   "id": "36f5b2e9",
   "metadata": {},
   "source": [
    "## Análisis multifactorial:\n"
   ]
  },
  {
   "cell_type": "markdown",
   "id": "cf92b138",
   "metadata": {},
   "source": [
    "## Tests clásicos\n",
    "\n",
    "#### AB Testing\n",
    "\n",
    "A\\B Testing is a classical methods to assay a control/test procedure. In these problems we typically have two ways to solve a problem A and B we split the data in $data_A$ and $data_B$ and we get some statistics of interest for each method. \n",
    "\n",
    "Let's create a synthetic example, we want to assay an \"improvement\" in a drug to cure a virus. To do so we split our patients in two groups:\n",
    "* Group A - traditional  (500 patients)\n",
    "* Group B - new drug (500 patients)\n",
    "We measure the effectiveness of the drug we measure the amount of time each patient takes to recover."
   ]
  },
  {
   "cell_type": "code",
   "execution_count": 33,
   "id": "adc10957",
   "metadata": {},
   "outputs": [
    {
     "data": {
      "text/html": [
       "<div>\n",
       "<style scoped>\n",
       "    .dataframe tbody tr th:only-of-type {\n",
       "        vertical-align: middle;\n",
       "    }\n",
       "\n",
       "    .dataframe tbody tr th {\n",
       "        vertical-align: top;\n",
       "    }\n",
       "\n",
       "    .dataframe thead th {\n",
       "        text-align: right;\n",
       "    }\n",
       "</style>\n",
       "<table border=\"1\" class=\"dataframe\">\n",
       "  <thead>\n",
       "    <tr style=\"text-align: right;\">\n",
       "      <th></th>\n",
       "      <th>patients</th>\n",
       "      <th>recovery_time</th>\n",
       "    </tr>\n",
       "  </thead>\n",
       "  <tbody>\n",
       "    <tr>\n",
       "      <th>0</th>\n",
       "      <td>A</td>\n",
       "      <td>7.928130</td>\n",
       "    </tr>\n",
       "    <tr>\n",
       "      <th>1</th>\n",
       "      <td>A</td>\n",
       "      <td>10.938724</td>\n",
       "    </tr>\n",
       "    <tr>\n",
       "      <th>2</th>\n",
       "      <td>A</td>\n",
       "      <td>2.959062</td>\n",
       "    </tr>\n",
       "    <tr>\n",
       "      <th>3</th>\n",
       "      <td>A</td>\n",
       "      <td>12.184544</td>\n",
       "    </tr>\n",
       "    <tr>\n",
       "      <th>4</th>\n",
       "      <td>A</td>\n",
       "      <td>17.253185</td>\n",
       "    </tr>\n",
       "  </tbody>\n",
       "</table>\n",
       "</div>"
      ],
      "text/plain": [
       "  patients  recovery_time\n",
       "0        A       7.928130\n",
       "1        A      10.938724\n",
       "2        A       2.959062\n",
       "3        A      12.184544\n",
       "4        A      17.253185"
      ]
     },
     "execution_count": 33,
     "metadata": {},
     "output_type": "execute_result"
    }
   ],
   "source": [
    "import scipy\n",
    "import numpy as np\n",
    "import pandas as pd\n",
    "\n",
    "# Reproducibility (MLOps)\n",
    "SEED = 6543210\n",
    "np.random.seed(SEED)\n",
    "\n",
    "n_a, n_b = 100, 100\n",
    "mu_a, sigma_a = 10, 5\n",
    "mu_b, sigma_b = 8,5.5\n",
    "patients_a = list(np.random.normal(mu_a, sigma_a, n_a))\n",
    "patients_b = list(np.random.normal(mu_b, sigma_b, n_b))\n",
    "patients = ['A']*n_a+['B']*n_b\n",
    "df = pd.DataFrame(zip(patients, patients_a+patients_b), columns = ['patients','recovery_time'])\n",
    "df.head()"
   ]
  },
  {
   "cell_type": "code",
   "execution_count": 34,
   "id": "5df810f6",
   "metadata": {},
   "outputs": [
    {
     "data": {
      "image/png": "[encoded data removed]",
      "text/plain": [
       "<Figure size 360x360 with 1 Axes>"
      ]
     },
     "metadata": {
      "needs_background": "light"
     },
     "output_type": "display_data"
    }
   ],
   "source": [
    "import matplotlib.pyplot as plt\n",
    "import seaborn as sns\n",
    "\n",
    "plt.figure(figsize = (5,5))\n",
    "sns.kdeplot(x = 'recovery_time', data = df, hue = 'patients')\n",
    "plt.show()"
   ]
  },
  {
   "cell_type": "markdown",
   "id": "90153736",
   "metadata": {},
   "source": [
    "From here we know clearly that there are some differences. Clearly the drug $B$ has less recovery time while $A$ has less desviation. However, a plot is not a proff or anything, we need some rigor to be able to say that there is a significant improvement.\n",
    "\n",
    "To perform the A\\B testing we need to establish the test:\n",
    "$$H_0:d = \\mu_a - \\mu_b = 0$$\n",
    "$$H_1:d = \\mu_a - \\mu_b = 0$$\n",
    "That is $\\hat{d}\\sim \\mathcal{N}(0, \\sigma_d)$ under $H_0$ and $\\hat{d} \\sim \\mathcal{N}(d,\\sigma_d)$ under $H_1$, where $\\hat{d}$ follows the distribution given by $\\frac{\\sum_{i = 1}^Nd_i}{N}$. For this, we can apply the CLT or Central Limit Theorem which says that given a set of $N$ iid random variables $X_i$ (all of them with the same number of examples in this case, if the number of examples is different then we need to use $\\frac{1}{n\\cdot m}\\sum_{i=1}^n\\sum_{j = 1}^mX_{ij}$), the sum of them can be estimated as a $\\mathcal{N}(\\sum_{i = 1}^N\\overline{X}/N, \\sqrt{\\sum_{i = 1}^N \\sigma_i^2}/\\sqrt{N})$ where under the condition of $H_0$ $\\sigma_i = \\sigma_{i+1}, \\forall 1 \\leq i \\leq N$ thus $\\sigma_i = \\sigma_d$.\n",
    "\n",
    "NOTE: If our distribution is not $\\mathcal{N}$ but any other like binomial, Poisson, negative binomial $\\gamma$ and so on, we have to remember that we are using the CLT and it applies to all of them equally. Therefore, the only thing that changes is the way we get the means and the desviations, for example:\n",
    "* Binomial: imagina $Y$ is $0$ or $1$ meaning the patient dies or survives. In this case, $\\mu = p$ and $\\sigma_i = p(1-p)$ because each is a Bernoulli event, and what are we trying to measure is the number of survivals given a rate $p$. Therefore, we have the control rate $p_a$ and the new drug rate $p_b$. Everything goes equal and the mean $\\mu_a = n_a\\cdot p_a$ and $\\mu_b = n_b \\cdot p_b$ and $\\sigma_a = p_a(1 - p_a)$ and $\\sigma_b = p_b(1 - p_b)$. Because, CLT we know that $\\sum_i X_i$ when $X_i \\in Bi(n, p), ~\\forall 1 \\leq i \\leq N$ then when $N \\to \\infty,~\\overline{X} \\sim \\mathcal{N}(\\frac{\\sum_i \\mu_i}{N}, \\sqrt{\\frac{\\sigma_i^2}{N}})$\n",
    "* $\\dots$\n",
    "But what is the point of all of this? Are we goint to repeat the test $\\infty$ times until we can say this with confidence?. No of course not.\n",
    "\n",
    "What this is saying is:***If $H_0$ occurs then if we repeat the experiment $\\infty$ times we will get $\\mathcal{N}(\\mu, \\sigma)$ with both paramenters known. Therefore, if $\\hat{d} \\sim \\mathcal{N}$ we can measure $P(d \\leq X)$, in other words we can get the probability of our $d$ to be significant and to see if we have to accept or reject $H_0$***"
   ]
  },
  {
   "cell_type": "markdown",
   "id": "a3988337",
   "metadata": {},
   "source": [
    "Let's continue with the code:\n",
    "* Get empirial means\n",
    "* Get empirical standard deviations"
   ]
  },
  {
   "cell_type": "code",
   "execution_count": 35,
   "id": "861a2cdc",
   "metadata": {},
   "outputs": [
    {
     "data": {
      "text/html": [
       "<div>\n",
       "<style scoped>\n",
       "    .dataframe tbody tr th:only-of-type {\n",
       "        vertical-align: middle;\n",
       "    }\n",
       "\n",
       "    .dataframe tbody tr th {\n",
       "        vertical-align: top;\n",
       "    }\n",
       "\n",
       "    .dataframe thead tr th {\n",
       "        text-align: left;\n",
       "    }\n",
       "</style>\n",
       "<table border=\"1\" class=\"dataframe\">\n",
       "  <thead>\n",
       "    <tr>\n",
       "      <th></th>\n",
       "      <th>patients</th>\n",
       "      <th colspan=\"2\" halign=\"left\">recovery_time</th>\n",
       "    </tr>\n",
       "    <tr>\n",
       "      <th></th>\n",
       "      <th></th>\n",
       "      <th>mean</th>\n",
       "      <th>std</th>\n",
       "    </tr>\n",
       "  </thead>\n",
       "  <tbody>\n",
       "    <tr>\n",
       "      <th>0</th>\n",
       "      <td>A</td>\n",
       "      <td>9.762944</td>\n",
       "      <td>5.020057</td>\n",
       "    </tr>\n",
       "    <tr>\n",
       "      <th>1</th>\n",
       "      <td>B</td>\n",
       "      <td>7.688008</td>\n",
       "      <td>5.529326</td>\n",
       "    </tr>\n",
       "  </tbody>\n",
       "</table>\n",
       "</div>"
      ],
      "text/plain": [
       "  patients recovery_time          \n",
       "                    mean       std\n",
       "0        A      9.762944  5.020057\n",
       "1        B      7.688008  5.529326"
      ]
     },
     "execution_count": 35,
     "metadata": {},
     "output_type": "execute_result"
    }
   ],
   "source": [
    "df_agg = df.groupby('patients').agg({'recovery_time':['mean','std']}).reset_index()\n",
    "df_agg.head()"
   ]
  },
  {
   "cell_type": "code",
   "execution_count": 44,
   "id": "3e2eaa0e",
   "metadata": {},
   "outputs": [
    {
     "data": {
      "text/plain": [
       "<matplotlib.lines.Line2D at 0x1d388646dc8>"
      ]
     },
     "execution_count": 44,
     "metadata": {},
     "output_type": "execute_result"
    },
    {
     "data": {
      "image/png": "[encoded data removed]",
      "text/plain": [
       "<Figure size 432x432 with 1 Axes>"
      ]
     },
     "metadata": {
      "needs_background": "light"
     },
     "output_type": "display_data"
    }
   ],
   "source": [
    "sd_a, sd_b = df_agg.iloc[0][('recovery_time', 'std')], df_agg.iloc[1][('recovery_time', 'std')]\n",
    "mean_a, mean_b = df_agg.iloc[0][('recovery_time', 'mean')], df_agg.iloc[1][('recovery_time', 'mean')]\n",
    "mean_h0, std_h0 = 0, np.sqrt(sd_a**2/n_a + sd_b**2/n_b)\n",
    "mean_h1, std_h1 = mean_a - mean_b, np.sqrt(sd_a**2/n_a + sd_b**2/n_b)\n",
    "sample_h0, sample_h1 = simulations(distribution='normal', mu = mean_h0, std = std_h0),simulations(distribution='normal', mu = mean_h1, std = std_h1)\n",
    "q_025, q_975 = np.quantile(sample_h0,q = 0.025), np.quantile(sample_h0, q = 0.975)\n",
    "fig, ax = plt.subplots(figsize = (6,6))\n",
    "sns.kdeplot(sample_h0, ax = ax)\n",
    "sns.kdeplot(sample_h1, ax = ax)\n",
    "### Vertical lines\n",
    "ax.axvline(x = q_025, ymin = 0.0, ymax=2.0, linewidth=2, alpha=0.5,color='g')\n",
    "ax.axvline(x = q_975, ymin = 0.0, ymax=2.0, linewidth=2, alpha=0.5,color='g')\n",
    "### Cover the areas\n",
    "sns.fill\n"
   ]
  },
  {
   "cell_type": "markdown",
   "id": "c6dfffe6",
   "metadata": {},
   "source": [
    "As we can see in the above figure there is a shared region between the two distributions (ditribution for $H_0$ and for $H_1$). That shared regions allows us to get the power of our test. We can define the power of the test as the area under the density function under $H_1$ out of the confidence interval of $H_0$. That is:\n",
    "$$Power(T) = \\int_{\\mathcal{D}'} f_{h_1}(x)$$\n",
    "where $\\mathcal{D}' = \\mathcal{D} \\setminus ((-\\infty,q_{\\alpha}] \\cup [q_{1-\\alpha,\\infty)}) \\subset \\mathcal{D}$, with $\\alpha$ defined for $H_0$.\n",
    "\n",
    "Here we can explain four important elements in hipothesis tests:\n",
    "* $\\beta$ or false negative probability, type II error, accept $H_0$ when it is not correct.\n",
    "* $1-\\beta$ or power, is the probability correctly reject $H_0$.\n",
    "* $\\alpha$, significance or false positive, probability of reject $H_0$ wrong.\n",
    "* $1 - \\alpha$, true negative accept $H_0$ correctly.\n",
    "\n"
   ]
  },
  {
   "cell_type": "markdown",
   "id": "e0d63730",
   "metadata": {},
   "source": [
    "#### Test de medias\n",
    "\n",
    "#### Test $\\chi^2$\n",
    "\n",
    "#### Test $t$-student"
   ]
  },
  {
   "cell_type": "code",
   "execution_count": null,
   "id": "d4cf6bda",
   "metadata": {},
   "outputs": [],
   "source": []
  },
  {
   "cell_type": "markdown",
   "id": "94640e81",
   "metadata": {},
   "source": [
    "## Test no paramétricos:\n",
    "\n",
    "##### Kolmogorov Smirnoff (lilliefors correction)\n",
    "\n",
    "##### Basados en momentos:\n",
    "\n",
    "###### Dagostino Pearson\n",
    "\n",
    "###### Jarque Bera\n",
    "\n",
    "#### Kruskal-Wallis\n",
    "\n",
    "#### Friedman\n",
    "\n",
    "#### Prueba de rachas de Walt-Wolfowitz\n",
    "\n",
    "#### Test de wilcoxon"
   ]
  },
  {
   "cell_type": "code",
   "execution_count": null,
   "id": "34650c16",
   "metadata": {},
   "outputs": [],
   "source": []
  },
  {
   "cell_type": "markdown",
   "id": "d08b76ea",
   "metadata": {},
   "source": [
    "## Diseño de experimentos (DOE - Design of experiments)"
   ]
  },
  {
   "cell_type": "code",
   "execution_count": null,
   "id": "34652bfb",
   "metadata": {},
   "outputs": [],
   "source": []
  }
 ],
 "metadata": {
  "interpreter": {
   "hash": "79d2e9cf301ae374dfe6db12efc548d42eed58f6b627d227180db5f5bcf58afa"
  },
  "kernelspec": {
   "display_name": "Python 3.7.12 ('tf')",
   "language": "python",
   "name": "python3"
  },
  "language_info": {
   "codemirror_mode": {
    "name": "ipython",
    "version": 3
   },
   "file_extension": ".py",
   "mimetype": "text/x-python",
   "name": "python",
   "nbconvert_exporter": "python",
   "pygments_lexer": "ipython3",
   "version": "3.7.12"
  }
 },
 "nbformat": 4,
 "nbformat_minor": 5
}
