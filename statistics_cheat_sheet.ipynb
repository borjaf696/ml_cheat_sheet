{
 "cells": [
  {
   "cell_type": "markdown",
   "id": "7a10c9a4",
   "metadata": {},
   "source": [
    "# Cheat sheet de estadística para ciencia de datos"
   ]
  },
  {
   "cell_type": "markdown",
   "id": "fd2a3ac4",
   "metadata": {},
   "source": [
    "## Probabilidad \n",
    "\n",
    "### Teorema de Bayes\n",
    "\n",
    "#### Probabilidad condicional\n",
    "\n",
    "##### Ejemplos típicos\n",
    "\n",
    "## Distribuciones típicas\n",
    "\n",
    "### Discretas\n",
    "\n",
    "### Continuas\n"
   ]
  },
  {
   "cell_type": "markdown",
   "id": "c56e3581",
   "metadata": {},
   "source": []
  },
  {
   "cell_type": "markdown",
   "id": "1eb2365b",
   "metadata": {},
   "source": [
    "## Análisis de significancia\n",
    "\n",
    "#### ANOVA:\n",
    "\n",
    "##### ANOVA: Efectos fijos\n",
    "\n",
    "##### ANOVA: Efectos aleatorios\n",
    "\n",
    "#### Análisis de la covarianza (ANCOVA):\n"
   ]
  },
  {
   "cell_type": "code",
   "execution_count": null,
   "id": "9dd62609",
   "metadata": {},
   "outputs": [],
   "source": []
  },
  {
   "cell_type": "markdown",
   "id": "16636f37",
   "metadata": {},
   "source": [
    "## Tests clásicos\n",
    "\n",
    "#### AB Testing\n",
    "\n",
    "#### Test de medias\n",
    "\n",
    "#### Test $\\chi^2$\n",
    "\n",
    "#### Test $t$-student"
   ]
  },
  {
   "cell_type": "code",
   "execution_count": null,
   "id": "22b26e10",
   "metadata": {},
   "outputs": [],
   "source": []
  },
  {
   "cell_type": "markdown",
   "id": "9b85b614",
   "metadata": {},
   "source": [
    "## Test no paramétricos:\n",
    "\n",
    "##### Kolmogorov Smirnoff (lilliefors correction)\n",
    "\n",
    "##### Basados en momentos:\n",
    "\n",
    "###### Dagostino Pearson\n",
    "\n",
    "###### Jarque Bera\n",
    "\n",
    "#### Kruskal-Wallis\n",
    "\n",
    "#### Friedman\n",
    "\n",
    "#### Prueba de rachas de Wolfowitz\n",
    "\n",
    "#### Test de wilcoxon"
   ]
  },
  {
   "cell_type": "code",
   "execution_count": null,
   "id": "a4e36046",
   "metadata": {},
   "outputs": [],
   "source": []
  }
 ],
 "metadata": {
  "kernelspec": {
   "display_name": "Python 3 (ipykernel)",
   "language": "python",
   "name": "python3"
  },
  "language_info": {
   "codemirror_mode": {
    "name": "ipython",
    "version": 3
   },
   "file_extension": ".py",
   "mimetype": "text/x-python",
   "name": "python",
   "nbconvert_exporter": "python",
   "pygments_lexer": "ipython3",
   "version": "3.7.12"
  }
 },
 "nbformat": 4,
 "nbformat_minor": 5
}
