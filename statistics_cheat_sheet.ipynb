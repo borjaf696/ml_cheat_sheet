{
 "cells": [
  {
   "cell_type": "markdown",
   "metadata": {},
   "source": [
    "# Cheat sheet de estadística para ciencia de datos"
   ]
  },
  {
   "cell_type": "markdown",
   "metadata": {},
   "source": [
    "## Probabilidad \n",
    "\n",
    "### Teorema de Bayes\n",
    "\n",
    "#### Probabilidad condicional\n",
    "\n",
    "##### Ejemplos típicos\n",
    "\n",
    "## Distribuciones típicas\n",
    "\n",
    "### Discretas\n",
    "\n",
    "### Continuas\n"
   ]
  },
  {
   "cell_type": "markdown",
   "metadata": {},
   "source": []
  },
  {
   "cell_type": "markdown",
   "metadata": {},
   "source": [
    "## Análisis de significancia\n",
    "\n",
    "#### ANOVA:\n",
    "\n",
    "##### ANOVA: Efectos fijos\n",
    "\n",
    "##### ANOVA: Efectos aleatorios\n",
    "\n",
    "#### Análisis de la covarianza (ANCOVA):\n"
   ]
  },
  {
   "cell_type": "code",
   "execution_count": null,
   "metadata": {},
   "outputs": [],
   "source": []
  },
  {
   "cell_type": "markdown",
   "metadata": {},
   "source": [
    "## Análisis multifactorial:\n"
   ]
  },
  {
   "cell_type": "markdown",
   "metadata": {},
   "source": [
    "## Tests clásicos\n",
    "\n",
    "#### AB Testing\n",
    "\n",
    "#### Test de medias\n",
    "\n",
    "#### Test $\\chi^2$\n",
    "\n",
    "#### Test $t$-student"
   ]
  },
  {
   "cell_type": "code",
   "execution_count": null,
   "metadata": {},
   "outputs": [],
   "source": []
  },
  {
   "cell_type": "markdown",
   "metadata": {},
   "source": [
    "## Test no paramétricos:\n",
    "\n",
    "##### Kolmogorov Smirnoff (lilliefors correction)\n",
    "\n",
    "##### Basados en momentos:\n",
    "\n",
    "###### Dagostino Pearson\n",
    "\n",
    "###### Jarque Bera\n",
    "\n",
    "#### Kruskal-Wallis\n",
    "\n",
    "#### Friedman\n",
    "\n",
    "#### Prueba de rachas de Walt-Wolfowitz\n",
    "\n",
    "#### Test de wilcoxon"
   ]
  },
  {
   "cell_type": "code",
   "execution_count": null,
   "metadata": {},
   "outputs": [],
   "source": []
  },
  {
   "cell_type": "markdown",
   "metadata": {},
   "source": [
    "## Diseño de experimentos (DOE - Design of experiments)"
   ]
  },
  {
   "cell_type": "code",
   "execution_count": null,
   "metadata": {},
   "outputs": [],
   "source": []
  }
 ],
 "metadata": {
  "kernelspec": {
   "display_name": "Python 3",
   "language": "python",
   "name": "python3"
  },
  "language_info": {
   "codemirror_mode": {
    "name": "ipython",
    "version": 3
   },
   "file_extension": ".py",
   "mimetype": "text/x-python",
   "name": "python",
   "nbconvert_exporter": "python",
   "pygments_lexer": "ipython3",
   "version": "3.6.10"
  }
 },
 "nbformat": 4,
 "nbformat_minor": 5
}
