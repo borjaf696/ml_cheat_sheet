{
 "cells": [
  {
   "cell_type": "markdown",
   "metadata": {},
   "source": [
    "#### Speech to text - training\n",
    "\n",
    "This jupyter notebook will describe from scratch how to work over speech data (signal) and how to reproduce into text that information. The data sets used for this task are stored in: https://commonvoice.mozilla.org/es/datasets"
   ]
  },
  {
   "cell_type": "markdown",
   "metadata": {},
   "source": [
    "#### Signal processing\n",
    "\n",
    "Some basics on signal processing."
   ]
  },
  {
   "cell_type": "code",
   "execution_count": null,
   "metadata": {},
   "outputs": [],
   "source": []
  }
 ],
 "metadata": {
  "language_info": {
   "name": "python"
  },
  "orig_nbformat": 4
 },
 "nbformat": 4,
 "nbformat_minor": 2
}
